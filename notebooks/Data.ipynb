{
 "cells": [
  {
   "cell_type": "markdown",
   "metadata": {},
   "source": [
    "## Open a CSV file using Pandas"
   ]
  },
  {
   "cell_type": "code",
   "execution_count": 1,
   "metadata": {},
   "outputs": [
    {
     "data": {
      "text/html": [
       "<div>\n",
       "<style scoped>\n",
       "    .dataframe tbody tr th:only-of-type {\n",
       "        vertical-align: middle;\n",
       "    }\n",
       "\n",
       "    .dataframe tbody tr th {\n",
       "        vertical-align: top;\n",
       "    }\n",
       "\n",
       "    .dataframe thead th {\n",
       "        text-align: right;\n",
       "    }\n",
       "</style>\n",
       "<table border=\"1\" class=\"dataframe\">\n",
       "  <thead>\n",
       "    <tr style=\"text-align: right;\">\n",
       "      <th></th>\n",
       "      <th>sepal_length</th>\n",
       "      <th>sepal_width</th>\n",
       "      <th>petal_length</th>\n",
       "      <th>petal_width</th>\n",
       "      <th>species</th>\n",
       "    </tr>\n",
       "  </thead>\n",
       "  <tbody>\n",
       "    <tr>\n",
       "      <th>0</th>\n",
       "      <td>5.1</td>\n",
       "      <td>3.5</td>\n",
       "      <td>1.4</td>\n",
       "      <td>0.2</td>\n",
       "      <td>setosa</td>\n",
       "    </tr>\n",
       "    <tr>\n",
       "      <th>1</th>\n",
       "      <td>4.9</td>\n",
       "      <td>3.0</td>\n",
       "      <td>1.4</td>\n",
       "      <td>0.2</td>\n",
       "      <td>setosa</td>\n",
       "    </tr>\n",
       "    <tr>\n",
       "      <th>2</th>\n",
       "      <td>4.7</td>\n",
       "      <td>3.2</td>\n",
       "      <td>1.3</td>\n",
       "      <td>0.2</td>\n",
       "      <td>setosa</td>\n",
       "    </tr>\n",
       "    <tr>\n",
       "      <th>3</th>\n",
       "      <td>4.6</td>\n",
       "      <td>3.1</td>\n",
       "      <td>1.5</td>\n",
       "      <td>0.2</td>\n",
       "      <td>setosa</td>\n",
       "    </tr>\n",
       "    <tr>\n",
       "      <th>4</th>\n",
       "      <td>5.0</td>\n",
       "      <td>3.6</td>\n",
       "      <td>1.4</td>\n",
       "      <td>0.2</td>\n",
       "      <td>setosa</td>\n",
       "    </tr>\n",
       "    <tr>\n",
       "      <th>5</th>\n",
       "      <td>5.4</td>\n",
       "      <td>3.9</td>\n",
       "      <td>1.7</td>\n",
       "      <td>0.4</td>\n",
       "      <td>setosa</td>\n",
       "    </tr>\n",
       "    <tr>\n",
       "      <th>6</th>\n",
       "      <td>4.6</td>\n",
       "      <td>3.4</td>\n",
       "      <td>1.4</td>\n",
       "      <td>0.3</td>\n",
       "      <td>setosa</td>\n",
       "    </tr>\n",
       "    <tr>\n",
       "      <th>7</th>\n",
       "      <td>5.0</td>\n",
       "      <td>3.4</td>\n",
       "      <td>1.5</td>\n",
       "      <td>0.2</td>\n",
       "      <td>setosa</td>\n",
       "    </tr>\n",
       "    <tr>\n",
       "      <th>8</th>\n",
       "      <td>4.4</td>\n",
       "      <td>2.9</td>\n",
       "      <td>1.4</td>\n",
       "      <td>0.2</td>\n",
       "      <td>setosa</td>\n",
       "    </tr>\n",
       "    <tr>\n",
       "      <th>9</th>\n",
       "      <td>4.9</td>\n",
       "      <td>3.1</td>\n",
       "      <td>1.5</td>\n",
       "      <td>0.1</td>\n",
       "      <td>setosa</td>\n",
       "    </tr>\n",
       "    <tr>\n",
       "      <th>10</th>\n",
       "      <td>5.4</td>\n",
       "      <td>3.7</td>\n",
       "      <td>1.5</td>\n",
       "      <td>0.2</td>\n",
       "      <td>setosa</td>\n",
       "    </tr>\n",
       "    <tr>\n",
       "      <th>11</th>\n",
       "      <td>4.8</td>\n",
       "      <td>3.4</td>\n",
       "      <td>1.6</td>\n",
       "      <td>0.2</td>\n",
       "      <td>setosa</td>\n",
       "    </tr>\n",
       "    <tr>\n",
       "      <th>12</th>\n",
       "      <td>4.8</td>\n",
       "      <td>3.0</td>\n",
       "      <td>1.4</td>\n",
       "      <td>0.1</td>\n",
       "      <td>setosa</td>\n",
       "    </tr>\n",
       "    <tr>\n",
       "      <th>13</th>\n",
       "      <td>4.3</td>\n",
       "      <td>3.0</td>\n",
       "      <td>1.1</td>\n",
       "      <td>0.1</td>\n",
       "      <td>setosa</td>\n",
       "    </tr>\n",
       "    <tr>\n",
       "      <th>14</th>\n",
       "      <td>5.8</td>\n",
       "      <td>4.0</td>\n",
       "      <td>1.2</td>\n",
       "      <td>0.2</td>\n",
       "      <td>setosa</td>\n",
       "    </tr>\n",
       "    <tr>\n",
       "      <th>15</th>\n",
       "      <td>5.7</td>\n",
       "      <td>4.4</td>\n",
       "      <td>1.5</td>\n",
       "      <td>0.4</td>\n",
       "      <td>setosa</td>\n",
       "    </tr>\n",
       "    <tr>\n",
       "      <th>16</th>\n",
       "      <td>5.4</td>\n",
       "      <td>3.9</td>\n",
       "      <td>1.3</td>\n",
       "      <td>0.4</td>\n",
       "      <td>setosa</td>\n",
       "    </tr>\n",
       "    <tr>\n",
       "      <th>17</th>\n",
       "      <td>5.1</td>\n",
       "      <td>3.5</td>\n",
       "      <td>1.4</td>\n",
       "      <td>0.3</td>\n",
       "      <td>setosa</td>\n",
       "    </tr>\n",
       "    <tr>\n",
       "      <th>18</th>\n",
       "      <td>5.7</td>\n",
       "      <td>3.8</td>\n",
       "      <td>1.7</td>\n",
       "      <td>0.3</td>\n",
       "      <td>setosa</td>\n",
       "    </tr>\n",
       "    <tr>\n",
       "      <th>19</th>\n",
       "      <td>5.1</td>\n",
       "      <td>3.8</td>\n",
       "      <td>1.5</td>\n",
       "      <td>0.3</td>\n",
       "      <td>setosa</td>\n",
       "    </tr>\n",
       "  </tbody>\n",
       "</table>\n",
       "</div>"
      ],
      "text/plain": [
       "    sepal_length  sepal_width  petal_length  petal_width species\n",
       "0            5.1          3.5           1.4          0.2  setosa\n",
       "1            4.9          3.0           1.4          0.2  setosa\n",
       "2            4.7          3.2           1.3          0.2  setosa\n",
       "3            4.6          3.1           1.5          0.2  setosa\n",
       "4            5.0          3.6           1.4          0.2  setosa\n",
       "5            5.4          3.9           1.7          0.4  setosa\n",
       "6            4.6          3.4           1.4          0.3  setosa\n",
       "7            5.0          3.4           1.5          0.2  setosa\n",
       "8            4.4          2.9           1.4          0.2  setosa\n",
       "9            4.9          3.1           1.5          0.1  setosa\n",
       "10           5.4          3.7           1.5          0.2  setosa\n",
       "11           4.8          3.4           1.6          0.2  setosa\n",
       "12           4.8          3.0           1.4          0.1  setosa\n",
       "13           4.3          3.0           1.1          0.1  setosa\n",
       "14           5.8          4.0           1.2          0.2  setosa\n",
       "15           5.7          4.4           1.5          0.4  setosa\n",
       "16           5.4          3.9           1.3          0.4  setosa\n",
       "17           5.1          3.5           1.4          0.3  setosa\n",
       "18           5.7          3.8           1.7          0.3  setosa\n",
       "19           5.1          3.8           1.5          0.3  setosa"
      ]
     },
     "execution_count": 1,
     "metadata": {},
     "output_type": "execute_result"
    }
   ],
   "source": [
    "import pandas\n",
    "df = pandas.read_csv('../data/iris.csv')\n",
    "df.head(20)"
   ]
  },
  {
   "cell_type": "markdown",
   "metadata": {},
   "source": [
    "## Read a GeoJSON file"
   ]
  },
  {
   "cell_type": "code",
   "execution_count": 12,
   "metadata": {},
   "outputs": [
    {
     "name": "stderr",
     "output_type": "stream",
     "text": [
      "C:\\ProgramData\\Anaconda3\\lib\\site-packages\\IPython\\core\\display.py:868: UserWarning: JSON expects JSONable dict or list, not JSON strings\n",
      "  warnings.warn(\"JSON expects JSONable dict or list, not JSON strings\")\n"
     ]
    }
   ],
   "source": [
    "import json\n",
    "from IPython.display import GeoJSON\n",
    "\n",
    "\n",
    "with open('../data/Museums_in_DC.geojson') as f:\n",
    "    r = f.read()\n",
    "    s = json.loads(r)\n",
    "    g = GeoJSON(r)\n",
    "#     df = pandas.read_json(r)"
   ]
  },
  {
   "cell_type": "code",
   "execution_count": 8,
   "metadata": {},
   "outputs": [
    {
     "data": {
      "text/plain": [
       "{'type': 'FeatureCollection',\n",
       " 'features': [{'type': 'Feature',\n",
       "   'properties': {'OBJECTID': 1,\n",
       "    'ADDRESS': '716 MONROE STREET NE',\n",
       "    'NAME': 'AMERICAN POETRY MUSEUM',\n",
       "    'ADDRESS_ID': 309744,\n",
       "    'LEGALNAME': 'HERITAGE US',\n",
       "    'ALTNAME': 'AMERICAN POETRY MUSEUM',\n",
       "    'WEBURL': ' http://americanpoetrymuseum.org/'},\n",
       "   'geometry': {'type': 'Point',\n",
       "    'coordinates': [-76.995003703568, 38.9328428790235]}},\n",
       "  {'type': 'Feature',\n",
       "   'properties': {'OBJECTID': 2,\n",
       "    'ADDRESS': '719 6TH STREET NW',\n",
       "    'NAME': 'GERMAN-AMERICAN HERITAGE MUSEUM',\n",
       "    'ADDRESS_ID': 238949,\n",
       "    'LEGALNAME': 'CORCORAN GALLERY OF ART',\n",
       "    'ALTNAME': ' ',\n",
       "    'WEBURL': 'http://gahmusa.org/'},\n",
       "   'geometry': {'type': 'Point',\n",
       "    'coordinates': [-77.01958878310639, 38.89911061096782]}},\n",
       "  {'type': 'Feature',\n",
       "   'properties': {'OBJECTID': 3,\n",
       "    'ADDRESS': '1307 NEW HAMPSHIRE AVENUE NW',\n",
       "    'NAME': 'HEURICH HOUSE FOUNDATION',\n",
       "    'ADDRESS_ID': 241060,\n",
       "    'LEGALNAME': 'U.S. DEPARTMENT OF THE INTERIOR MUSEUM',\n",
       "    'ALTNAME': 'HEURICH HOUSE FOUNDATION',\n",
       "    'WEBURL': 'HTTP://HEURICHHOUSE.ORG'},\n",
       "   'geometry': {'type': 'Point',\n",
       "    'coordinates': [-77.04460619923155, 38.908030206509885]}},\n",
       "  {'type': 'Feature',\n",
       "   'properties': {'OBJECTID': 4,\n",
       "    'ADDRESS': '950 INDEPENDENCE AVENUE SW',\n",
       "    'NAME': 'NATIONAL MUSEUM OF AFRICAN ART',\n",
       "    'ADDRESS_ID': 293262,\n",
       "    'LEGALNAME': 'BUILDING PRESERVATION FOUNDATION',\n",
       "    'ALTNAME': 'NATIONAL MUSEUM OF AFRICAN ART',\n",
       "    'WEBURL': 'HTTP://AFRICA.SI.EDU/'},\n",
       "   'geometry': {'type': 'Point',\n",
       "    'coordinates': [-77.02550917725944, 38.88796214949963]}},\n",
       "  {'type': 'Feature',\n",
       "   'properties': {'OBJECTID': 5,\n",
       "    'ADDRESS': '740 JACKSON PLACE NW',\n",
       "    'NAME': 'THE WHITE HOUSE ENDOWMENT TRUST',\n",
       "    'ADDRESS_ID': 218748,\n",
       "    'LEGALNAME': 'NATIONAL BUILDING MUSEUM',\n",
       "    'ALTNAME': 'THE WHITE HOUSE ENDOWMENT TRUST',\n",
       "    'WEBURL': 'HTTP://WWW.WHITEHOUSEHISTORY.ORG'},\n",
       "   'geometry': {'type': 'Point',\n",
       "    'coordinates': [-77.03820629325264, 38.899842529027275]}},\n",
       "  {'type': 'Feature',\n",
       "   'properties': {'OBJECTID': 6,\n",
       "    'ADDRESS': '921 PENNSYLVANIA AVENUE SE',\n",
       "    'NAME': 'OLD NAVAL HOSPITAL FOUNDATION',\n",
       "    'ADDRESS_ID': 82564,\n",
       "    'LEGALNAME': 'JEWISH WAR VETERANS NATIONAL MEMORIAL MUSEUM ARCHIVES AND LI',\n",
       "    'ALTNAME': 'OLD NAVAL HOSPITAL FOUNDATION',\n",
       "    'WEBURL': 'http://hillcenterdc.org/home/'},\n",
       "   'geometry': {'type': 'Point',\n",
       "    'coordinates': [-76.99314290714912, 38.8829885933721]}},\n",
       "  {'type': 'Feature',\n",
       "   'properties': {'OBJECTID': 7,\n",
       "    'ADDRESS': '2201 C STREET NW',\n",
       "    'NAME': 'DIPLOMATIC ROOMS FOUNDATION',\n",
       "    'ADDRESS_ID': 243360,\n",
       "    'LEGALNAME': 'NATIONAL PLASTICS MUSEUM INC',\n",
       "    'ALTNAME': 'DIPLOMATIC ROOMS FOUNDATION',\n",
       "    'WEBURL': 'https://diplomaticrooms.state.gov/home.aspx'},\n",
       "   'geometry': {'type': 'Point',\n",
       "    'coordinates': [-77.04831079505838, 38.894135140073566]}},\n",
       "  {'type': 'Feature',\n",
       "   'properties': {'OBJECTID': 8,\n",
       "    'ADDRESS': '4400 MASSACHUSETTS AVENUE NW',\n",
       "    'NAME': 'AMERICAN UNIVERSITY MUSEUM AT THE KATZEN ARTS CENTER',\n",
       "    'ADDRESS_ID': 223994,\n",
       "    'LEGALNAME': 'VERNISSAGE FOUNDATION',\n",
       "    'ALTNAME': 'AMERICAN UNIVERSITY MUSEUM AT THE KATZEN ARTS CENTER',\n",
       "    'WEBURL': 'HTTP://WWW.AMERICAN.EDU/CAS/MUSEUM/'},\n",
       "   'geometry': {'type': 'Point',\n",
       "    'coordinates': [-77.08841712551974, 38.9390892139132]}},\n",
       "  {'type': 'Feature',\n",
       "   'properties': {'OBJECTID': 9,\n",
       "    'ADDRESS': '2320 S STREET NW',\n",
       "    'NAME': 'TEXTILE MUSEUM',\n",
       "    'ADDRESS_ID': 243164,\n",
       "    'LEGALNAME': 'SMITHSONIAN INSTITUTION, S. DILLON RIPLEY CENTER',\n",
       "    'ALTNAME': 'TEXTILE MUSEUM',\n",
       "    'WEBURL': 'HTTP://WWW.TEXTILEMUSEUM.ORG'},\n",
       "   'geometry': {'type': 'Point',\n",
       "    'coordinates': [-77.0464284034822, 38.89880233850966]}},\n",
       "  {'type': 'Feature',\n",
       "   'properties': {'OBJECTID': 10,\n",
       "    'ADDRESS': '1145 17TH STREET NW',\n",
       "    'NAME': 'NATIONAL GEOGRAPHIC MUSEUM',\n",
       "    'ADDRESS_ID': 290192,\n",
       "    'LEGALNAME': 'CAPITOL HILL RESTORATION SOCIETY INC',\n",
       "    'ALTNAME': ' ',\n",
       "    'WEBURL': 'HTTP://WWW.NATIONALGEOGRAPHIC.COM'},\n",
       "   'geometry': {'type': 'Point',\n",
       "    'coordinates': [-77.03815544194862, 38.90519711304962]}},\n",
       "  {'type': 'Feature',\n",
       "   'properties': {'OBJECTID': 11,\n",
       "    'ADDRESS': '3501 NEW YORK AVENUE NE',\n",
       "    'NAME': 'THE NATIONAL BONSAI & PENJING MUSEUM',\n",
       "    'ADDRESS_ID': 293238,\n",
       "    'LEGALNAME': 'NATIONAL BONSAI FOUNDATION',\n",
       "    'ALTNAME': ' ',\n",
       "    'WEBURL': 'https://www.bonsai-nbf.org/contact-us/'},\n",
       "   'geometry': {'type': 'Point',\n",
       "    'coordinates': [-76.96989266812075, 38.91241055669072]}},\n",
       "  {'type': 'Feature',\n",
       "   'properties': {'OBJECTID': 12,\n",
       "    'ADDRESS': '2020 O STREET NW',\n",
       "    'NAME': 'O STREET MUSEUM',\n",
       "    'ADDRESS_ID': 243057,\n",
       "    'LEGALNAME': 'LEPIDOPTERISTS SOCIETY',\n",
       "    'ALTNAME': ' ',\n",
       "    'WEBURL': 'http://www.omuseum.org/museum/'},\n",
       "   'geometry': {'type': 'Point',\n",
       "    'coordinates': [-77.04592748104784, 38.90839101941751]}},\n",
       "  {'type': 'Feature',\n",
       "   'properties': {'OBJECTID': 13,\n",
       "    'ADDRESS': '2101 CONSTITUTION AVENUE NW',\n",
       "    'NAME': 'NATIONAL ACADEMY OF SCIENCES',\n",
       "    'ADDRESS_ID': 242716,\n",
       "    'LEGALNAME': 'SMITHSONIAN INSTITUTION, NATURAL HISTORY MUSEUM',\n",
       "    'ALTNAME': 'NATIONAL ACADEMY OF SCIENCES',\n",
       "    'WEBURL': 'WWW.NATIONALACADEMIES.ORG/NAS/ARTS'},\n",
       "   'geometry': {'type': 'Point',\n",
       "    'coordinates': [-77.0476448925699, 38.89296693766957]}},\n",
       "  {'type': 'Feature',\n",
       "   'properties': {'OBJECTID': 14,\n",
       "    'ADDRESS': '2401 FOXHALL ROAD NW',\n",
       "    'NAME': 'KREEGER MUSEUM',\n",
       "    'ADDRESS_ID': 271251,\n",
       "    'LEGALNAME': 'CONGRESSIONAL CEMETERY',\n",
       "    'ALTNAME': 'KREEGER MUSEUM',\n",
       "    'WEBURL': 'HTTP://WWW.KREEGERMUSEUM.ORG/'},\n",
       "   'geometry': {'type': 'Point',\n",
       "    'coordinates': [-77.08878098790044, 38.92191197499568]}},\n",
       "  {'type': 'Feature',\n",
       "   'properties': {'OBJECTID': 15,\n",
       "    'ADDRESS': '1250 NEW YORK AVENUE NW',\n",
       "    'NAME': 'THE NATIONAL MUSEUM OF WOMEN IN THE ART',\n",
       "    'ADDRESS_ID': 279010,\n",
       "    'LEGALNAME': 'NATIONAL MUSEUM OF HEALTH AND MEDICINE',\n",
       "    'ALTNAME': 'THE NATIONAL MUSEUM OF WOMEN IN THE ART',\n",
       "    'WEBURL': 'HTTP://WWW.NMWA.ORG'},\n",
       "   'geometry': {'type': 'Point',\n",
       "    'coordinates': [-77.029163689541, 38.90005647268176]}},\n",
       "  {'type': 'Feature',\n",
       "   'properties': {'OBJECTID': 16,\n",
       "    'ADDRESS': '900 JEFFERSON DRIVE SW',\n",
       "    'NAME': 'ARTS AND INDUSTRIES BUILDING',\n",
       "    'ADDRESS_ID': 293260,\n",
       "    'LEGALNAME': 'ANACOSTIA COMMUNITY MUSEUM',\n",
       "    'ALTNAME': ' ',\n",
       "    'WEBURL': 'http://www.si.edu/Museums/arts-and-industries-building'},\n",
       "   'geometry': {'type': 'Point',\n",
       "    'coordinates': [-77.02446647929001, 38.888201004559114]}},\n",
       "  {'type': 'Feature',\n",
       "   'properties': {'OBJECTID': 17,\n",
       "    'ADDRESS': '736 SICARD STREET SE',\n",
       "    'NAME': 'NATIONAL MUSEUM OF UNITED STATES NAVY',\n",
       "    'ADDRESS_ID': 311896,\n",
       "    'LEGALNAME': 'BLACK SPORTS LEGENDS FOUNDATION',\n",
       "    'ALTNAME': 'NATIONAL MUSEUM OF UNITED STATES NAVY',\n",
       "    'WEBURL': 'http://www.history.navy.mil/museums/NationalMuseum/org8-1.htm'},\n",
       "   'geometry': {'type': 'Point',\n",
       "    'coordinates': [-76.99526950368147, 38.87303084860059]}},\n",
       "  {'type': 'Feature',\n",
       "   'properties': {'OBJECTID': 18,\n",
       "    'ADDRESS': '500 17TH STREET NW',\n",
       "    'NAME': 'CORCORAN GALLERY OF ART',\n",
       "    'ADDRESS_ID': 279802,\n",
       "    'LEGALNAME': 'SMITHSONIAN INSTITUTION, NATIONAL ZOOLOGICAL PARK',\n",
       "    'ALTNAME': 'CORCORAN GALLERY OF ART',\n",
       "    'WEBURL': 'http://www.corcoran.org/'},\n",
       "   'geometry': {'type': 'Point',\n",
       "    'coordinates': [-77.0397427304576, 38.895854463821884]}},\n",
       "  {'type': 'Feature',\n",
       "   'properties': {'OBJECTID': 19,\n",
       "    'ADDRESS': '2017 I STREET NW',\n",
       "    'NAME': 'THE ARTS CLUB OF WASHINGTON',\n",
       "    'ADDRESS_ID': 285527,\n",
       "    'LEGALNAME': 'SMITHSONIAN INSTITUTION, NATIONAL MUSEUM OF AFRICAN AMERICAN HISTORY AND CULTURE',\n",
       "    'ALTNAME': 'THE ARTS CLUB OF WASHINGTON',\n",
       "    'WEBURL': 'HTTP://WWW.ARTSCLUBOFWASHINGTON.ORG'},\n",
       "   'geometry': {'type': 'Point',\n",
       "    'coordinates': [-77.04573426864144, 38.90157618582308]}},\n",
       "  {'type': 'Feature',\n",
       "   'properties': {'OBJECTID': 20,\n",
       "    'ADDRESS': '701 3RD STREET NW',\n",
       "    'NAME': 'LILLIAN AND ALBERT SMALL JEWISH MUSEUM',\n",
       "    'ADDRESS_ID': 293253,\n",
       "    'LEGALNAME': 'LILLIAN AND ALBERT SMALL JEWISH MUSEUM',\n",
       "    'ALTNAME': ' ',\n",
       "    'WEBURL': 'http://www.jhsgw.org/'},\n",
       "   'geometry': {'type': 'Point',\n",
       "    'coordinates': [-77.01493675564363, 38.89857205791096]}},\n",
       "  {'type': 'Feature',\n",
       "   'properties': {'OBJECTID': 21,\n",
       "    'ADDRESS': '320 A STREET NE',\n",
       "    'NAME': 'FREDERICK DOUGLASS MUSEUM',\n",
       "    'ADDRESS_ID': 38979,\n",
       "    'LEGALNAME': 'COSMOS CLUB HISTORIC PRESERVATION FOUNDATION',\n",
       "    'ALTNAME': ' ',\n",
       "    'WEBURL': 'http://www3.nahc.org/fd/'},\n",
       "   'geometry': {'type': 'Point',\n",
       "    'coordinates': [-77.00110470253333, 38.891131915241964]}},\n",
       "  {'type': 'Feature',\n",
       "   'properties': {'OBJECTID': 22,\n",
       "    'ADDRESS': '1334 G STREET NW',\n",
       "    'NAME': 'ARMENIAN GENOCIDE MUSEUM AND MEMORIAL',\n",
       "    'ADDRESS_ID': 240658,\n",
       "    'LEGALNAME': 'GERMAN-AMERICAN HERITAGE MUSEUM',\n",
       "    'ALTNAME': 'ARMENIAN GENOCIDE MUSEUM AND MEMORIAL',\n",
       "    'WEBURL': 'http://www.armeniangenocidemuseum.org/'},\n",
       "   'geometry': {'type': 'Point',\n",
       "    'coordinates': [-77.03108432435003, 38.89804891426683]}},\n",
       "  {'type': 'Feature',\n",
       "   'properties': {'OBJECTID': 23,\n",
       "    'ADDRESS': '1799 NEW YORK AVENUE NW',\n",
       "    'NAME': 'OCTAGON MUSEUM',\n",
       "    'ADDRESS_ID': 218490,\n",
       "    'LEGALNAME': 'AMERICAN RED CROSS MUSEUM',\n",
       "    'ALTNAME': ' ',\n",
       "    'WEBURL': 'HTTP://WWW.THEOCTAGON.ORG'},\n",
       "   'geometry': {'type': 'Point',\n",
       "    'coordinates': [-77.04141820048949, 38.89635375607101]}},\n",
       "  {'type': 'Feature',\n",
       "   'properties': {'OBJECTID': 24,\n",
       "    'ADDRESS': '1901 FORT PLACE SE',\n",
       "    'NAME': 'ANACOSTIA COMMUNITY MUSEUM',\n",
       "    'ADDRESS_ID': 286524,\n",
       "    'LEGALNAME': 'FAUNA & FLORA INTERNATIONAL INC',\n",
       "    'ALTNAME': 'ANACOSTIA COMMUNITY MUSEUM',\n",
       "    'WEBURL': 'HTTP://ANACOSTIA.SI.EDU'},\n",
       "   'geometry': {'type': 'Point',\n",
       "    'coordinates': [-76.97678467186984, 38.8565826636904]}},\n",
       "  {'type': 'Feature',\n",
       "   'properties': {'OBJECTID': 25,\n",
       "    'ADDRESS': '2312 CALIFORNIA STREET NW',\n",
       "    'NAME': 'NATIONAL MUSEUM OF THE JEWISH PEOPLE',\n",
       "    'ADDRESS_ID': 234961,\n",
       "    'LEGALNAME': 'GREENSEED COMMUNITY GARDEN LAND TRUST',\n",
       "    'ALTNAME': ' ',\n",
       "    'WEBURL': 'http://www.nsideas.com/archive/nmjh/'},\n",
       "   'geometry': {'type': 'Point',\n",
       "    'coordinates': [-77.05118108814123, 38.91537084189858]}},\n",
       "  {'type': 'Feature',\n",
       "   'properties': {'OBJECTID': 26,\n",
       "    'ADDRESS': '430 17TH STREET NW',\n",
       "    'NAME': 'AMERICAN RED CROSS MUSEUM',\n",
       "    'ADDRESS_ID': 300987,\n",
       "    'LEGALNAME': 'DOUBLE M MANAGEMENT',\n",
       "    'ALTNAME': 'AMERICAN RED CROSS MUSEUM',\n",
       "    'WEBURL': 'http://www.redcross.org/'},\n",
       "   'geometry': {'type': 'Point',\n",
       "    'coordinates': [-77.04020705622152, 38.89482654014118]}},\n",
       "  {'type': 'Feature',\n",
       "   'properties': {'OBJECTID': 27,\n",
       "    'ADDRESS': '1600 21ST STREET NW',\n",
       "    'NAME': 'THE PHILLIPS COLLECTION',\n",
       "    'ADDRESS_ID': 243333,\n",
       "    'LEGALNAME': 'SMITHSONIAN INSTITUTION, RENWICK GALLERY',\n",
       "    'ALTNAME': 'THE PHILLIPS COLLECTION',\n",
       "    'WEBURL': 'HTTP://WWW.PHILLIPSCOLLECTION.ORG'},\n",
       "   'geometry': {'type': 'Point',\n",
       "    'coordinates': [-77.04685454590388, 38.91150979086159]}},\n",
       "  {'type': 'Feature',\n",
       "   'properties': {'OBJECTID': 28,\n",
       "    'ADDRESS': '800 F STREET NW',\n",
       "    'NAME': 'INTERNATIONAL SPY MUSEUM',\n",
       "    'ADDRESS_ID': 238378,\n",
       "    'LEGALNAME': 'CONFEDERATE MEMORIAL HALL ASSOCIATION',\n",
       "    'ALTNAME': 'INTERNATIONAL SPY MUSEUM',\n",
       "    'WEBURL': 'HTTP://WWW.SPYMUSEUM.ORG/'},\n",
       "   'geometry': {'type': 'Point',\n",
       "    'coordinates': [-77.02328618491306, 38.896986480912865]}},\n",
       "  {'type': 'Feature',\n",
       "   'properties': {'OBJECTID': 29,\n",
       "    'ADDRESS': '100 RAOUL WALLENBERG PLACE SW',\n",
       "    'NAME': 'UNITED STATES HOLOCAUST MEMORIAL MUSEUM',\n",
       "    'ADDRESS_ID': 293186,\n",
       "    'LEGALNAME': 'NATIONAL MUSIC CENTER AND MUSEUM FOUNDATION',\n",
       "    'ALTNAME': 'UNITED STATES HOLOCAUST MEMORIAL MUSEUM',\n",
       "    'WEBURL': 'HTTP://WWW.USHMM.ORG'},\n",
       "   'geometry': {'type': 'Point',\n",
       "    'coordinates': [-77.03268853739414, 38.88668873773371]}},\n",
       "  {'type': 'Feature',\n",
       "   'properties': {'OBJECTID': 30,\n",
       "    'ADDRESS': '801 K STREET NW',\n",
       "    'NAME': 'HISTORICAL SOCIETY OF WASHINGTON DC',\n",
       "    'ADDRESS_ID': 238956,\n",
       "    'LEGALNAME': 'Historical Society of Washington, D.C',\n",
       "    'ALTNAME': ' ',\n",
       "    'WEBURL': 'http://www.dchistory.org/'},\n",
       "   'geometry': {'type': 'Point',\n",
       "    'coordinates': [-77.02294505078932, 38.90262956584554]}},\n",
       "  {'type': 'Feature',\n",
       "   'properties': {'OBJECTID': 31,\n",
       "    'ADDRESS': '1849 C STREET NW',\n",
       "    'NAME': 'INTERIOR MUSEUM',\n",
       "    'ADDRESS_ID': 293214,\n",
       "    'LEGALNAME': 'VICE PRESIDENTS RESIDENCE FOUNDATION',\n",
       "    'ALTNAME': 'INTERIOR MUSEUM',\n",
       "    'WEBURL': 'HTTP://WWW.DOI.GOV/INTERIORMUSEUM'},\n",
       "   'geometry': {'type': 'Point',\n",
       "    'coordinates': [-77.04260256434321, 38.89445283458921]}},\n",
       "  {'type': 'Feature',\n",
       "   'properties': {'OBJECTID': 32,\n",
       "    'ADDRESS': '4155 LINNEAN AVENUE NW',\n",
       "    'NAME': 'HILLWOOD MUSEUM & GARDENS',\n",
       "    'ADDRESS_ID': 284839,\n",
       "    'LEGALNAME': 'SMITHSONIAN INSTITUTION, NATIONAL GALLERY OF ART',\n",
       "    'ALTNAME': 'HILLWOOD MUSEUM & GARDENS',\n",
       "    'WEBURL': 'WWW.HILLWOODMUSEUM.ORG'},\n",
       "   'geometry': {'type': 'Point',\n",
       "    'coordinates': [-77.0526196505072, 38.94364171194315]}},\n",
       "  {'type': 'Feature',\n",
       "   'properties': {'OBJECTID': 33,\n",
       "    'ADDRESS': '1318 VERMONT AVENUE NW',\n",
       "    'NAME': 'BETHUNE MEMORIAL MUSEUM',\n",
       "    'ADDRESS_ID': 225385,\n",
       "    'LEGALNAME': 'NATIONAL MUSEUM OF WOMEN IN THE ARTS INC',\n",
       "    'ALTNAME': ' ',\n",
       "    'WEBURL': 'http://www.nps.gov/mamc/index.htm'},\n",
       "   'geometry': {'type': 'Point',\n",
       "    'coordinates': [-77.03086564182146, 38.90817580546652]}},\n",
       "  {'type': 'Feature',\n",
       "   'properties': {'OBJECTID': 34,\n",
       "    'ADDRESS': '1500 MASSACHUSETTS AVENUE NW',\n",
       "    'NAME': 'NATIONAL MUSEUM OF CATHOLIC ART AND LIBRARY',\n",
       "    'ADDRESS_ID': 242324,\n",
       "    'LEGALNAME': 'KREEGER MUSEUM',\n",
       "    'ALTNAME': ' ',\n",
       "    'WEBURL': 'http://nmcal.org/nmcah_exhibition_in_washington.html'},\n",
       "   'geometry': {'type': 'Point',\n",
       "    'coordinates': [-77.03551120800971, 38.90651019329394]}},\n",
       "  {'type': 'Feature',\n",
       "   'properties': {'OBJECTID': 35,\n",
       "    'ADDRESS': '1 MASSACHUSETTS AVENUE NW',\n",
       "    'NAME': 'NATIONAL GUARD MEMORIAL MUSEUM',\n",
       "    'ADDRESS_ID': 238009,\n",
       "    'LEGALNAME': 'CARL SCHMITT FOUNDATION INC',\n",
       "    'ALTNAME': ' ',\n",
       "    'WEBURL': 'HTTP://WWW.NGEF.ORG'},\n",
       "   'geometry': {'type': 'Point',\n",
       "    'coordinates': [-77.00956143652462, 38.89812580681995]}},\n",
       "  {'type': 'Feature',\n",
       "   'properties': {'OBJECTID': 36,\n",
       "    'ADDRESS': '1811 R STREET NW',\n",
       "    'NAME': 'NATIONAL MUSEUM OF AMERICAN JEWISH MILITARY HISTORY',\n",
       "    'ADDRESS_ID': 243292,\n",
       "    'LEGALNAME': 'CITY TAVERN PRESERVATION FOUNDATION',\n",
       "    'ALTNAME': 'JEWISH WAR VETERANS NATIONAL MEMORIAL MUSEUM ARCHIVES AND LIBRARY',\n",
       "    'WEBURL': 'http://www.nmajmh.org/'},\n",
       "   'geometry': {'type': 'Point',\n",
       "    'coordinates': [-77.04211577477285, 38.91282059721026]}},\n",
       "  {'type': 'Feature',\n",
       "   'properties': {'OBJECTID': 37,\n",
       "    'ADDRESS': '3900 HAREWOOD ROAD NE',\n",
       "    'NAME': 'POPE JOHN PAUL II CULTURAL CENTER',\n",
       "    'ADDRESS_ID': 288031,\n",
       "    'LEGALNAME': 'AMERICAN POETRY MUSEUM',\n",
       "    'ALTNAME': ' ',\n",
       "    'WEBURL': 'HTTP://WWW.JP2CC.ORG'},\n",
       "   'geometry': {'type': 'Point',\n",
       "    'coordinates': [-77.00466710351098, 38.93776654366721]}},\n",
       "  {'type': 'Feature',\n",
       "   'properties': {'OBJECTID': 38,\n",
       "    'ADDRESS': '700 PENNSYLVANIA AVENUE NW',\n",
       "    'NAME': 'NATIONAL ARCHIVES MUSEUM',\n",
       "    'ADDRESS_ID': 293251,\n",
       "    'LEGALNAME': 'PHILLIPS COLLECTION',\n",
       "    'ALTNAME': 'NATIONAL ARCHIVES MUSEUM',\n",
       "    'WEBURL': 'https://www.archives.gov/dc-metro/washington/'},\n",
       "   'geometry': {'type': 'Point',\n",
       "    'coordinates': [-77.0228592459719, 38.89285370583677]}},\n",
       "  {'type': 'Feature',\n",
       "   'properties': {'OBJECTID': 39,\n",
       "    'ADDRESS': '201 18TH STREET NW',\n",
       "    'NAME': 'ART MUSEUM OF THE AMERICAS',\n",
       "    'ADDRESS_ID': 294191,\n",
       "    'LEGALNAME': 'Art Museum of the Americas',\n",
       "    'ALTNAME': ' ',\n",
       "    'WEBURL': 'http://www.museum.oas.org/'},\n",
       "   'geometry': {'type': 'Point',\n",
       "    'coordinates': [-77.04147388756545, 38.892799844291474]}},\n",
       "  {'type': 'Feature',\n",
       "   'properties': {'OBJECTID': 40,\n",
       "    'ADDRESS': '9 HILLYER COURT NW',\n",
       "    'NAME': 'INTERNATIONAL ARTS & ARTISTS',\n",
       "    'ADDRESS_ID': 279975,\n",
       "    'LEGALNAME': 'THE INTERNATIONAL SPY MUSEUM',\n",
       "    'ALTNAME': 'INTERNATIONAL ARTS & ARTISTS',\n",
       "    'WEBURL': 'WWW.ARTSANDARTISTS.ORG'},\n",
       "   'geometry': {'type': 'Point',\n",
       "    'coordinates': [-77.04730884101534, 38.91222144699389]}},\n",
       "  {'type': 'Feature',\n",
       "   'properties': {'OBJECTID': 41,\n",
       "    'ADDRESS': '2 MASSACHUSETTS AVENUE NE',\n",
       "    'NAME': 'NATIONAL POSTAL MUSEUM',\n",
       "    'ADDRESS_ID': 293217,\n",
       "    'LEGALNAME': 'BEAD SOCIETY OF GREATER WASHINGTON',\n",
       "    'ALTNAME': 'NATIONAL POSTAL MUSEUM',\n",
       "    'WEBURL': 'HTTP://POSTALMUSEUM.SI.EDU'},\n",
       "   'geometry': {'type': 'Point',\n",
       "    'coordinates': [-77.00819124512859, 38.8981463599396]}},\n",
       "  {'type': 'Feature',\n",
       "   'properties': {'OBJECTID': 42,\n",
       "    'ADDRESS': '1519 MONROE STREET NW',\n",
       "    'NAME': 'POWHATAN MUSEUM',\n",
       "    'ADDRESS_ID': 234557,\n",
       "    'LEGALNAME': 'AMERICAN UNIVERSITY MUSEUM',\n",
       "    'ALTNAME': ' ',\n",
       "    'WEBURL': 'http://www.powhatanmuseum.com/'},\n",
       "   'geometry': {'type': 'Point',\n",
       "    'coordinates': [-77.03550660261739, 38.93243814726252]}},\n",
       "  {'type': 'Feature',\n",
       "   'properties': {'OBJECTID': 43,\n",
       "    'ADDRESS': '144 CONSTITUTION AVENUE NE',\n",
       "    'NAME': 'SEWALL-BELMONT HOUSE AND MUSEUM',\n",
       "    'ADDRESS_ID': 286201,\n",
       "    'LEGALNAME': 'AMERICAN MUSEUM OF PEACE INC',\n",
       "    'ALTNAME': ' ',\n",
       "    'WEBURL': 'HTTP://WWW.SEWALLBELMONT.ORG'},\n",
       "   'geometry': {'type': 'Point',\n",
       "    'coordinates': [-77.00375845550963, 38.89219466787653]}},\n",
       "  {'type': 'Feature',\n",
       "   'properties': {'OBJECTID': 44,\n",
       "    'ADDRESS': '802 MASSACHUSETTS AVENUE NE',\n",
       "    'NAME': 'SHOOK MUSEUM FOUNDATION',\n",
       "    'ADDRESS_ID': 79669,\n",
       "    'LEGALNAME': 'GREENPEACE FUND',\n",
       "    'ALTNAME': ' ',\n",
       "    'WEBURL': 'SHOOKMUSEUM.ORG'},\n",
       "   'geometry': {'type': 'Point',\n",
       "    'coordinates': [-76.9944246526475, 38.891834530779185]}},\n",
       "  {'type': 'Feature',\n",
       "   'properties': {'OBJECTID': 45,\n",
       "    'ADDRESS': '1400 CONSTITUTION AVENUE NW',\n",
       "    'NAME': 'SMITHSONIAN INSTITUTION, NATIONAL MUSEUM OF NATURAL HISTORY',\n",
       "    'ADDRESS_ID': 310702,\n",
       "    'LEGALNAME': \"B'NAI B'RITH KLUTZNICK MUSEUM\",\n",
       "    'ALTNAME': 'SMITHSONIAN INSTITUTION, NATIONAL MUSEUM OF NATURAL HISTORY',\n",
       "    'WEBURL': 'http://www.mnh.si.edu/'},\n",
       "   'geometry': {'type': 'Point',\n",
       "    'coordinates': [-77.02591603234607, 38.89121850995097]}},\n",
       "  {'type': 'Feature',\n",
       "   'properties': {'OBJECTID': 46,\n",
       "    'ADDRESS': '500 HOWARD PLACE NW',\n",
       "    'NAME': 'HOWARD UNIVERSITY MUSEUM',\n",
       "    'ADDRESS_ID': 243398,\n",
       "    'LEGALNAME': 'COLLECTONS STRIES AMRCN MSLIMS',\n",
       "    'ALTNAME': ' ',\n",
       "    'WEBURL': 'http://www.coas.howard.edu/msrc/museum.html'},\n",
       "   'geometry': {'type': 'Point',\n",
       "    'coordinates': [-77.0196991986925, 38.922360224748935]}},\n",
       "  {'type': 'Feature',\n",
       "   'properties': {'OBJECTID': 47,\n",
       "    'ADDRESS': '8TH STREET NW AND  F ST NW',\n",
       "    'NAME': 'NATIONAL PORTRAIT GALLERY',\n",
       "    'ADDRESS_ID': 294248,\n",
       "    'LEGALNAME': 'BOHEMIA ARTS',\n",
       "    'ALTNAME': 'NATIONAL PORTRAIT GALLERY',\n",
       "    'WEBURL': 'HTTP://WWW.NPG.SI.EDU'},\n",
       "   'geometry': {'type': 'Point',\n",
       "    'coordinates': [-77.02295571583119, 38.89815890118559]}},\n",
       "  {'type': 'Feature',\n",
       "   'properties': {'OBJECTID': 48,\n",
       "    'ADDRESS': '14TH STREET NW AND CONSTITUTION AVENUE NW',\n",
       "    'NAME': 'NATIONAL MUSEUM OF AFRICAN AMERICAN HISTORY AND CULTURE',\n",
       "    'ADDRESS_ID': 903110,\n",
       "    'LEGALNAME': 'AMERICANS FOR BATTLEFIELD PRESERVATION',\n",
       "    'ALTNAME': 'NATIONAL MUSEUM OF AFRICAN AMERICAN HISTORY AND CULTURE',\n",
       "    'WEBURL': 'HTTP://WWW.NMAAHC.SI.EDU/'},\n",
       "   'geometry': {'type': 'Point',\n",
       "    'coordinates': [-77.03271597832732, 38.89119983415094]}},\n",
       "  {'type': 'Feature',\n",
       "   'properties': {'OBJECTID': 49,\n",
       "    'ADDRESS': '4TH STREET SW AND INDEPENDENCE AVENUE SW',\n",
       "    'NAME': 'NATIONAL MUSEUM OF AMERICAN INDIAN',\n",
       "    'ADDRESS_ID': 294429,\n",
       "    'LEGALNAME': 'BLAIR HOUSE RESTORATION FUND',\n",
       "    'ALTNAME': ' ',\n",
       "    'WEBURL': 'WWW.NMAI.SI.EDU'},\n",
       "   'geometry': {'type': 'Point',\n",
       "    'coordinates': [-77.01672595283219, 38.88826561652]}},\n",
       "  {'type': 'Feature',\n",
       "   'properties': {'OBJECTID': 50,\n",
       "    'ADDRESS': '6TH STREET SW AND INDEPENDENCE AVENUE SW',\n",
       "    'NAME': 'NATIONAL AIR AND SPACE MUSEUM',\n",
       "    'ADDRESS_ID': 301565,\n",
       "    'LEGALNAME': 'BETHUNE MEMORIAL MUSEUM',\n",
       "    'ALTNAME': 'NATIONAL AIR AND SPACE MUSEUM',\n",
       "    'WEBURL': 'HTTP://WWW.NASM.SI.EDU/'},\n",
       "   'geometry': {'type': 'Point',\n",
       "    'coordinates': [-77.01979999825605, 38.888161175521944]}},\n",
       "  {'type': 'Feature',\n",
       "   'properties': {'OBJECTID': 51,\n",
       "    'ADDRESS': '7THB STREET AND INDEPENDENCE AVENUE SW',\n",
       "    'NAME': 'HIRSHHORN MUSEUM AND SCULPTURE GARDEN',\n",
       "    'ADDRESS_ID': 294428,\n",
       "    'LEGALNAME': 'D.C. OFFICE OF PUBLIC RECORDS AND ARCHIVES',\n",
       "    'ALTNAME': 'HIRSHHORN MUSEUM AND SCULPTURE GARDEN',\n",
       "    'WEBURL': 'HTTP://HIRSHHORN.SI.EDU/'},\n",
       "   'geometry': {'type': 'Point',\n",
       "    'coordinates': [-77.02294902891254, 38.88843565656003]}},\n",
       "  {'type': 'Feature',\n",
       "   'properties': {'OBJECTID': 52,\n",
       "    'ADDRESS': 'MADISON DRIVE NW AND 12TH STREET NW',\n",
       "    'NAME': 'SMITHSONIAN INSTITUTION, NATIONAL MUSEUM OF AMERICAN HISTORY',\n",
       "    'ADDRESS_ID': 293200,\n",
       "    'LEGALNAME': None,\n",
       "    'ALTNAME': 'SMITHSONIAN INSTITUTION, NATIONAL MUSEUM OF AMERICAN HISTORY',\n",
       "    'WEBURL': 'HTTP://AMERICANHISTORY.SI.EDU'},\n",
       "   'geometry': {'type': 'Point',\n",
       "    'coordinates': [-77.03005156534492, 38.89123181993075]}},\n",
       "  {'type': 'Feature',\n",
       "   'properties': {'OBJECTID': 53,\n",
       "    'ADDRESS': '4TH STREET NW AND MADISON DRIVE NW',\n",
       "    'NAME': 'NATIONAL GALLERY OF ART - EAST BUILDING',\n",
       "    'ADDRESS_ID': 293209,\n",
       "    'LEGALNAME': None,\n",
       "    'ALTNAME': None,\n",
       "    'WEBURL': 'http://www.nga.gov/content/ngaweb/visit/maps-and-information/east-building.html'},\n",
       "   'geometry': {'type': 'Point',\n",
       "    'coordinates': [-77.01668919569053, 38.89125721273486]}},\n",
       "  {'type': 'Feature',\n",
       "   'properties': {'OBJECTID': 54,\n",
       "    'ADDRESS': '4TH STREET NW AND MADISON DRIVE NW',\n",
       "    'NAME': 'NATIONAL GALLERY OF ART - WEST BUILDING',\n",
       "    'ADDRESS_ID': 293249,\n",
       "    'LEGALNAME': None,\n",
       "    'ALTNAME': None,\n",
       "    'WEBURL': 'http://www.nga.gov/content/ngaweb/visit/maps-and-information/west-building.html'},\n",
       "   'geometry': {'type': 'Point',\n",
       "    'coordinates': [-77.01989150273015, 38.891313914429645]}},\n",
       "  {'type': 'Feature',\n",
       "   'properties': {'OBJECTID': 55,\n",
       "    'ADDRESS': '1000 JEFFERSON DRIVE SW',\n",
       "    'NAME': 'SMITHSONIAN INSTITUTION - CASTLE',\n",
       "    'ADDRESS_ID': 293187,\n",
       "    'LEGALNAME': None,\n",
       "    'ALTNAME': None,\n",
       "    'WEBURL': 'http://www.si.edu/Museums/smithsonian-institution-building'},\n",
       "   'geometry': {'type': 'Point',\n",
       "    'coordinates': [-77.02597189316775, 38.88879577572046]}},\n",
       "  {'type': 'Feature',\n",
       "   'properties': {'OBJECTID': 56,\n",
       "    'ADDRESS': '1050 INDEPENDENCE AVENUE SW',\n",
       "    'NAME': 'SACKLER GALLERY',\n",
       "    'ADDRESS_ID': 293191,\n",
       "    'LEGALNAME': 'ARTHUR M. SACKLER GALLERY',\n",
       "    'ALTNAME': None,\n",
       "    'WEBURL': 'http://www.asia.si.edu/'},\n",
       "   'geometry': {'type': 'Point',\n",
       "    'coordinates': [-77.02645343758842, 38.88796502751886]}},\n",
       "  {'type': 'Feature',\n",
       "   'properties': {'OBJECTID': 57,\n",
       "    'ADDRESS': 'JEFFERSON DRIVE SW AND 12TH STREET SW',\n",
       "    'NAME': 'FREER GALLERY',\n",
       "    'ADDRESS_ID': 294417,\n",
       "    'LEGALNAME': 'FREER GALLERY OF ART',\n",
       "    'ALTNAME': None,\n",
       "    'WEBURL': 'http://www.asia.si.edu/'},\n",
       "   'geometry': {'type': 'Point',\n",
       "    'coordinates': [-77.02736845485786, 38.8882746680144]}}]}"
      ]
     },
     "execution_count": 8,
     "metadata": {},
     "output_type": "execute_result"
    }
   ],
   "source": [
    "s"
   ]
  },
  {
   "cell_type": "code",
   "execution_count": 9,
   "metadata": {},
   "outputs": [
    {
     "data": {
      "application/geo+json": {
       "features": [
        {
         "geometry": {
          "coordinates": [
           -76.995003703568,
           38.9328428790235
          ],
          "type": "Point"
         },
         "properties": {
          "ADDRESS": "716 MONROE STREET NE",
          "ADDRESS_ID": 309744,
          "ALTNAME": "AMERICAN POETRY MUSEUM",
          "LEGALNAME": "HERITAGE US",
          "NAME": "AMERICAN POETRY MUSEUM",
          "OBJECTID": 1,
          "WEBURL": " http://americanpoetrymuseum.org/"
         },
         "type": "Feature"
        },
        {
         "geometry": {
          "coordinates": [
           -77.01958878310639,
           38.89911061096782
          ],
          "type": "Point"
         },
         "properties": {
          "ADDRESS": "719 6TH STREET NW",
          "ADDRESS_ID": 238949,
          "ALTNAME": " ",
          "LEGALNAME": "CORCORAN GALLERY OF ART",
          "NAME": "GERMAN-AMERICAN HERITAGE MUSEUM",
          "OBJECTID": 2,
          "WEBURL": "http://gahmusa.org/"
         },
         "type": "Feature"
        },
        {
         "geometry": {
          "coordinates": [
           -77.04460619923155,
           38.908030206509885
          ],
          "type": "Point"
         },
         "properties": {
          "ADDRESS": "1307 NEW HAMPSHIRE AVENUE NW",
          "ADDRESS_ID": 241060,
          "ALTNAME": "HEURICH HOUSE FOUNDATION",
          "LEGALNAME": "U.S. DEPARTMENT OF THE INTERIOR MUSEUM",
          "NAME": "HEURICH HOUSE FOUNDATION",
          "OBJECTID": 3,
          "WEBURL": "HTTP://HEURICHHOUSE.ORG"
         },
         "type": "Feature"
        },
        {
         "geometry": {
          "coordinates": [
           -77.02550917725944,
           38.88796214949963
          ],
          "type": "Point"
         },
         "properties": {
          "ADDRESS": "950 INDEPENDENCE AVENUE SW",
          "ADDRESS_ID": 293262,
          "ALTNAME": "NATIONAL MUSEUM OF AFRICAN ART",
          "LEGALNAME": "BUILDING PRESERVATION FOUNDATION",
          "NAME": "NATIONAL MUSEUM OF AFRICAN ART",
          "OBJECTID": 4,
          "WEBURL": "HTTP://AFRICA.SI.EDU/"
         },
         "type": "Feature"
        },
        {
         "geometry": {
          "coordinates": [
           -77.03820629325264,
           38.899842529027275
          ],
          "type": "Point"
         },
         "properties": {
          "ADDRESS": "740 JACKSON PLACE NW",
          "ADDRESS_ID": 218748,
          "ALTNAME": "THE WHITE HOUSE ENDOWMENT TRUST",
          "LEGALNAME": "NATIONAL BUILDING MUSEUM",
          "NAME": "THE WHITE HOUSE ENDOWMENT TRUST",
          "OBJECTID": 5,
          "WEBURL": "HTTP://WWW.WHITEHOUSEHISTORY.ORG"
         },
         "type": "Feature"
        },
        {
         "geometry": {
          "coordinates": [
           -76.99314290714912,
           38.8829885933721
          ],
          "type": "Point"
         },
         "properties": {
          "ADDRESS": "921 PENNSYLVANIA AVENUE SE",
          "ADDRESS_ID": 82564,
          "ALTNAME": "OLD NAVAL HOSPITAL FOUNDATION",
          "LEGALNAME": "JEWISH WAR VETERANS NATIONAL MEMORIAL MUSEUM ARCHIVES AND LI",
          "NAME": "OLD NAVAL HOSPITAL FOUNDATION",
          "OBJECTID": 6,
          "WEBURL": "http://hillcenterdc.org/home/"
         },
         "type": "Feature"
        },
        {
         "geometry": {
          "coordinates": [
           -77.04831079505838,
           38.894135140073566
          ],
          "type": "Point"
         },
         "properties": {
          "ADDRESS": "2201 C STREET NW",
          "ADDRESS_ID": 243360,
          "ALTNAME": "DIPLOMATIC ROOMS FOUNDATION",
          "LEGALNAME": "NATIONAL PLASTICS MUSEUM INC",
          "NAME": "DIPLOMATIC ROOMS FOUNDATION",
          "OBJECTID": 7,
          "WEBURL": "https://diplomaticrooms.state.gov/home.aspx"
         },
         "type": "Feature"
        },
        {
         "geometry": {
          "coordinates": [
           -77.08841712551974,
           38.9390892139132
          ],
          "type": "Point"
         },
         "properties": {
          "ADDRESS": "4400 MASSACHUSETTS AVENUE NW",
          "ADDRESS_ID": 223994,
          "ALTNAME": "AMERICAN UNIVERSITY MUSEUM AT THE KATZEN ARTS CENTER",
          "LEGALNAME": "VERNISSAGE FOUNDATION",
          "NAME": "AMERICAN UNIVERSITY MUSEUM AT THE KATZEN ARTS CENTER",
          "OBJECTID": 8,
          "WEBURL": "HTTP://WWW.AMERICAN.EDU/CAS/MUSEUM/"
         },
         "type": "Feature"
        },
        {
         "geometry": {
          "coordinates": [
           -77.0464284034822,
           38.89880233850966
          ],
          "type": "Point"
         },
         "properties": {
          "ADDRESS": "2320 S STREET NW",
          "ADDRESS_ID": 243164,
          "ALTNAME": "TEXTILE MUSEUM",
          "LEGALNAME": "SMITHSONIAN INSTITUTION, S. DILLON RIPLEY CENTER",
          "NAME": "TEXTILE MUSEUM",
          "OBJECTID": 9,
          "WEBURL": "HTTP://WWW.TEXTILEMUSEUM.ORG"
         },
         "type": "Feature"
        },
        {
         "geometry": {
          "coordinates": [
           -77.03815544194862,
           38.90519711304962
          ],
          "type": "Point"
         },
         "properties": {
          "ADDRESS": "1145 17TH STREET NW",
          "ADDRESS_ID": 290192,
          "ALTNAME": " ",
          "LEGALNAME": "CAPITOL HILL RESTORATION SOCIETY INC",
          "NAME": "NATIONAL GEOGRAPHIC MUSEUM",
          "OBJECTID": 10,
          "WEBURL": "HTTP://WWW.NATIONALGEOGRAPHIC.COM"
         },
         "type": "Feature"
        },
        {
         "geometry": {
          "coordinates": [
           -76.96989266812075,
           38.91241055669072
          ],
          "type": "Point"
         },
         "properties": {
          "ADDRESS": "3501 NEW YORK AVENUE NE",
          "ADDRESS_ID": 293238,
          "ALTNAME": " ",
          "LEGALNAME": "NATIONAL BONSAI FOUNDATION",
          "NAME": "THE NATIONAL BONSAI & PENJING MUSEUM",
          "OBJECTID": 11,
          "WEBURL": "https://www.bonsai-nbf.org/contact-us/"
         },
         "type": "Feature"
        },
        {
         "geometry": {
          "coordinates": [
           -77.04592748104784,
           38.90839101941751
          ],
          "type": "Point"
         },
         "properties": {
          "ADDRESS": "2020 O STREET NW",
          "ADDRESS_ID": 243057,
          "ALTNAME": " ",
          "LEGALNAME": "LEPIDOPTERISTS SOCIETY",
          "NAME": "O STREET MUSEUM",
          "OBJECTID": 12,
          "WEBURL": "http://www.omuseum.org/museum/"
         },
         "type": "Feature"
        },
        {
         "geometry": {
          "coordinates": [
           -77.0476448925699,
           38.89296693766957
          ],
          "type": "Point"
         },
         "properties": {
          "ADDRESS": "2101 CONSTITUTION AVENUE NW",
          "ADDRESS_ID": 242716,
          "ALTNAME": "NATIONAL ACADEMY OF SCIENCES",
          "LEGALNAME": "SMITHSONIAN INSTITUTION, NATURAL HISTORY MUSEUM",
          "NAME": "NATIONAL ACADEMY OF SCIENCES",
          "OBJECTID": 13,
          "WEBURL": "WWW.NATIONALACADEMIES.ORG/NAS/ARTS"
         },
         "type": "Feature"
        },
        {
         "geometry": {
          "coordinates": [
           -77.08878098790044,
           38.92191197499568
          ],
          "type": "Point"
         },
         "properties": {
          "ADDRESS": "2401 FOXHALL ROAD NW",
          "ADDRESS_ID": 271251,
          "ALTNAME": "KREEGER MUSEUM",
          "LEGALNAME": "CONGRESSIONAL CEMETERY",
          "NAME": "KREEGER MUSEUM",
          "OBJECTID": 14,
          "WEBURL": "HTTP://WWW.KREEGERMUSEUM.ORG/"
         },
         "type": "Feature"
        },
        {
         "geometry": {
          "coordinates": [
           -77.029163689541,
           38.90005647268176
          ],
          "type": "Point"
         },
         "properties": {
          "ADDRESS": "1250 NEW YORK AVENUE NW",
          "ADDRESS_ID": 279010,
          "ALTNAME": "THE NATIONAL MUSEUM OF WOMEN IN THE ART",
          "LEGALNAME": "NATIONAL MUSEUM OF HEALTH AND MEDICINE",
          "NAME": "THE NATIONAL MUSEUM OF WOMEN IN THE ART",
          "OBJECTID": 15,
          "WEBURL": "HTTP://WWW.NMWA.ORG"
         },
         "type": "Feature"
        },
        {
         "geometry": {
          "coordinates": [
           -77.02446647929001,
           38.888201004559114
          ],
          "type": "Point"
         },
         "properties": {
          "ADDRESS": "900 JEFFERSON DRIVE SW",
          "ADDRESS_ID": 293260,
          "ALTNAME": " ",
          "LEGALNAME": "ANACOSTIA COMMUNITY MUSEUM",
          "NAME": "ARTS AND INDUSTRIES BUILDING",
          "OBJECTID": 16,
          "WEBURL": "http://www.si.edu/Museums/arts-and-industries-building"
         },
         "type": "Feature"
        },
        {
         "geometry": {
          "coordinates": [
           -76.99526950368147,
           38.87303084860059
          ],
          "type": "Point"
         },
         "properties": {
          "ADDRESS": "736 SICARD STREET SE",
          "ADDRESS_ID": 311896,
          "ALTNAME": "NATIONAL MUSEUM OF UNITED STATES NAVY",
          "LEGALNAME": "BLACK SPORTS LEGENDS FOUNDATION",
          "NAME": "NATIONAL MUSEUM OF UNITED STATES NAVY",
          "OBJECTID": 17,
          "WEBURL": "http://www.history.navy.mil/museums/NationalMuseum/org8-1.htm"
         },
         "type": "Feature"
        },
        {
         "geometry": {
          "coordinates": [
           -77.0397427304576,
           38.895854463821884
          ],
          "type": "Point"
         },
         "properties": {
          "ADDRESS": "500 17TH STREET NW",
          "ADDRESS_ID": 279802,
          "ALTNAME": "CORCORAN GALLERY OF ART",
          "LEGALNAME": "SMITHSONIAN INSTITUTION, NATIONAL ZOOLOGICAL PARK",
          "NAME": "CORCORAN GALLERY OF ART",
          "OBJECTID": 18,
          "WEBURL": "http://www.corcoran.org/"
         },
         "type": "Feature"
        },
        {
         "geometry": {
          "coordinates": [
           -77.04573426864144,
           38.90157618582308
          ],
          "type": "Point"
         },
         "properties": {
          "ADDRESS": "2017 I STREET NW",
          "ADDRESS_ID": 285527,
          "ALTNAME": "THE ARTS CLUB OF WASHINGTON",
          "LEGALNAME": "SMITHSONIAN INSTITUTION, NATIONAL MUSEUM OF AFRICAN AMERICAN HISTORY AND CULTURE",
          "NAME": "THE ARTS CLUB OF WASHINGTON",
          "OBJECTID": 19,
          "WEBURL": "HTTP://WWW.ARTSCLUBOFWASHINGTON.ORG"
         },
         "type": "Feature"
        },
        {
         "geometry": {
          "coordinates": [
           -77.01493675564363,
           38.89857205791096
          ],
          "type": "Point"
         },
         "properties": {
          "ADDRESS": "701 3RD STREET NW",
          "ADDRESS_ID": 293253,
          "ALTNAME": " ",
          "LEGALNAME": "LILLIAN AND ALBERT SMALL JEWISH MUSEUM",
          "NAME": "LILLIAN AND ALBERT SMALL JEWISH MUSEUM",
          "OBJECTID": 20,
          "WEBURL": "http://www.jhsgw.org/"
         },
         "type": "Feature"
        },
        {
         "geometry": {
          "coordinates": [
           -77.00110470253333,
           38.891131915241964
          ],
          "type": "Point"
         },
         "properties": {
          "ADDRESS": "320 A STREET NE",
          "ADDRESS_ID": 38979,
          "ALTNAME": " ",
          "LEGALNAME": "COSMOS CLUB HISTORIC PRESERVATION FOUNDATION",
          "NAME": "FREDERICK DOUGLASS MUSEUM",
          "OBJECTID": 21,
          "WEBURL": "http://www3.nahc.org/fd/"
         },
         "type": "Feature"
        },
        {
         "geometry": {
          "coordinates": [
           -77.03108432435003,
           38.89804891426683
          ],
          "type": "Point"
         },
         "properties": {
          "ADDRESS": "1334 G STREET NW",
          "ADDRESS_ID": 240658,
          "ALTNAME": "ARMENIAN GENOCIDE MUSEUM AND MEMORIAL",
          "LEGALNAME": "GERMAN-AMERICAN HERITAGE MUSEUM",
          "NAME": "ARMENIAN GENOCIDE MUSEUM AND MEMORIAL",
          "OBJECTID": 22,
          "WEBURL": "http://www.armeniangenocidemuseum.org/"
         },
         "type": "Feature"
        },
        {
         "geometry": {
          "coordinates": [
           -77.04141820048949,
           38.89635375607101
          ],
          "type": "Point"
         },
         "properties": {
          "ADDRESS": "1799 NEW YORK AVENUE NW",
          "ADDRESS_ID": 218490,
          "ALTNAME": " ",
          "LEGALNAME": "AMERICAN RED CROSS MUSEUM",
          "NAME": "OCTAGON MUSEUM",
          "OBJECTID": 23,
          "WEBURL": "HTTP://WWW.THEOCTAGON.ORG"
         },
         "type": "Feature"
        },
        {
         "geometry": {
          "coordinates": [
           -76.97678467186984,
           38.8565826636904
          ],
          "type": "Point"
         },
         "properties": {
          "ADDRESS": "1901 FORT PLACE SE",
          "ADDRESS_ID": 286524,
          "ALTNAME": "ANACOSTIA COMMUNITY MUSEUM",
          "LEGALNAME": "FAUNA & FLORA INTERNATIONAL INC",
          "NAME": "ANACOSTIA COMMUNITY MUSEUM",
          "OBJECTID": 24,
          "WEBURL": "HTTP://ANACOSTIA.SI.EDU"
         },
         "type": "Feature"
        },
        {
         "geometry": {
          "coordinates": [
           -77.05118108814123,
           38.91537084189858
          ],
          "type": "Point"
         },
         "properties": {
          "ADDRESS": "2312 CALIFORNIA STREET NW",
          "ADDRESS_ID": 234961,
          "ALTNAME": " ",
          "LEGALNAME": "GREENSEED COMMUNITY GARDEN LAND TRUST",
          "NAME": "NATIONAL MUSEUM OF THE JEWISH PEOPLE",
          "OBJECTID": 25,
          "WEBURL": "http://www.nsideas.com/archive/nmjh/"
         },
         "type": "Feature"
        },
        {
         "geometry": {
          "coordinates": [
           -77.04020705622152,
           38.89482654014118
          ],
          "type": "Point"
         },
         "properties": {
          "ADDRESS": "430 17TH STREET NW",
          "ADDRESS_ID": 300987,
          "ALTNAME": "AMERICAN RED CROSS MUSEUM",
          "LEGALNAME": "DOUBLE M MANAGEMENT",
          "NAME": "AMERICAN RED CROSS MUSEUM",
          "OBJECTID": 26,
          "WEBURL": "http://www.redcross.org/"
         },
         "type": "Feature"
        },
        {
         "geometry": {
          "coordinates": [
           -77.04685454590388,
           38.91150979086159
          ],
          "type": "Point"
         },
         "properties": {
          "ADDRESS": "1600 21ST STREET NW",
          "ADDRESS_ID": 243333,
          "ALTNAME": "THE PHILLIPS COLLECTION",
          "LEGALNAME": "SMITHSONIAN INSTITUTION, RENWICK GALLERY",
          "NAME": "THE PHILLIPS COLLECTION",
          "OBJECTID": 27,
          "WEBURL": "HTTP://WWW.PHILLIPSCOLLECTION.ORG"
         },
         "type": "Feature"
        },
        {
         "geometry": {
          "coordinates": [
           -77.02328618491306,
           38.896986480912865
          ],
          "type": "Point"
         },
         "properties": {
          "ADDRESS": "800 F STREET NW",
          "ADDRESS_ID": 238378,
          "ALTNAME": "INTERNATIONAL SPY MUSEUM",
          "LEGALNAME": "CONFEDERATE MEMORIAL HALL ASSOCIATION",
          "NAME": "INTERNATIONAL SPY MUSEUM",
          "OBJECTID": 28,
          "WEBURL": "HTTP://WWW.SPYMUSEUM.ORG/"
         },
         "type": "Feature"
        },
        {
         "geometry": {
          "coordinates": [
           -77.03268853739414,
           38.88668873773371
          ],
          "type": "Point"
         },
         "properties": {
          "ADDRESS": "100 RAOUL WALLENBERG PLACE SW",
          "ADDRESS_ID": 293186,
          "ALTNAME": "UNITED STATES HOLOCAUST MEMORIAL MUSEUM",
          "LEGALNAME": "NATIONAL MUSIC CENTER AND MUSEUM FOUNDATION",
          "NAME": "UNITED STATES HOLOCAUST MEMORIAL MUSEUM",
          "OBJECTID": 29,
          "WEBURL": "HTTP://WWW.USHMM.ORG"
         },
         "type": "Feature"
        },
        {
         "geometry": {
          "coordinates": [
           -77.02294505078932,
           38.90262956584554
          ],
          "type": "Point"
         },
         "properties": {
          "ADDRESS": "801 K STREET NW",
          "ADDRESS_ID": 238956,
          "ALTNAME": " ",
          "LEGALNAME": "Historical Society of Washington, D.C",
          "NAME": "HISTORICAL SOCIETY OF WASHINGTON DC",
          "OBJECTID": 30,
          "WEBURL": "http://www.dchistory.org/"
         },
         "type": "Feature"
        },
        {
         "geometry": {
          "coordinates": [
           -77.04260256434321,
           38.89445283458921
          ],
          "type": "Point"
         },
         "properties": {
          "ADDRESS": "1849 C STREET NW",
          "ADDRESS_ID": 293214,
          "ALTNAME": "INTERIOR MUSEUM",
          "LEGALNAME": "VICE PRESIDENTS RESIDENCE FOUNDATION",
          "NAME": "INTERIOR MUSEUM",
          "OBJECTID": 31,
          "WEBURL": "HTTP://WWW.DOI.GOV/INTERIORMUSEUM"
         },
         "type": "Feature"
        },
        {
         "geometry": {
          "coordinates": [
           -77.0526196505072,
           38.94364171194315
          ],
          "type": "Point"
         },
         "properties": {
          "ADDRESS": "4155 LINNEAN AVENUE NW",
          "ADDRESS_ID": 284839,
          "ALTNAME": "HILLWOOD MUSEUM & GARDENS",
          "LEGALNAME": "SMITHSONIAN INSTITUTION, NATIONAL GALLERY OF ART",
          "NAME": "HILLWOOD MUSEUM & GARDENS",
          "OBJECTID": 32,
          "WEBURL": "WWW.HILLWOODMUSEUM.ORG"
         },
         "type": "Feature"
        },
        {
         "geometry": {
          "coordinates": [
           -77.03086564182146,
           38.90817580546652
          ],
          "type": "Point"
         },
         "properties": {
          "ADDRESS": "1318 VERMONT AVENUE NW",
          "ADDRESS_ID": 225385,
          "ALTNAME": " ",
          "LEGALNAME": "NATIONAL MUSEUM OF WOMEN IN THE ARTS INC",
          "NAME": "BETHUNE MEMORIAL MUSEUM",
          "OBJECTID": 33,
          "WEBURL": "http://www.nps.gov/mamc/index.htm"
         },
         "type": "Feature"
        },
        {
         "geometry": {
          "coordinates": [
           -77.03551120800971,
           38.90651019329394
          ],
          "type": "Point"
         },
         "properties": {
          "ADDRESS": "1500 MASSACHUSETTS AVENUE NW",
          "ADDRESS_ID": 242324,
          "ALTNAME": " ",
          "LEGALNAME": "KREEGER MUSEUM",
          "NAME": "NATIONAL MUSEUM OF CATHOLIC ART AND LIBRARY",
          "OBJECTID": 34,
          "WEBURL": "http://nmcal.org/nmcah_exhibition_in_washington.html"
         },
         "type": "Feature"
        },
        {
         "geometry": {
          "coordinates": [
           -77.00956143652462,
           38.89812580681995
          ],
          "type": "Point"
         },
         "properties": {
          "ADDRESS": "1 MASSACHUSETTS AVENUE NW",
          "ADDRESS_ID": 238009,
          "ALTNAME": " ",
          "LEGALNAME": "CARL SCHMITT FOUNDATION INC",
          "NAME": "NATIONAL GUARD MEMORIAL MUSEUM",
          "OBJECTID": 35,
          "WEBURL": "HTTP://WWW.NGEF.ORG"
         },
         "type": "Feature"
        },
        {
         "geometry": {
          "coordinates": [
           -77.04211577477285,
           38.91282059721026
          ],
          "type": "Point"
         },
         "properties": {
          "ADDRESS": "1811 R STREET NW",
          "ADDRESS_ID": 243292,
          "ALTNAME": "JEWISH WAR VETERANS NATIONAL MEMORIAL MUSEUM ARCHIVES AND LIBRARY",
          "LEGALNAME": "CITY TAVERN PRESERVATION FOUNDATION",
          "NAME": "NATIONAL MUSEUM OF AMERICAN JEWISH MILITARY HISTORY",
          "OBJECTID": 36,
          "WEBURL": "http://www.nmajmh.org/"
         },
         "type": "Feature"
        },
        {
         "geometry": {
          "coordinates": [
           -77.00466710351098,
           38.93776654366721
          ],
          "type": "Point"
         },
         "properties": {
          "ADDRESS": "3900 HAREWOOD ROAD NE",
          "ADDRESS_ID": 288031,
          "ALTNAME": " ",
          "LEGALNAME": "AMERICAN POETRY MUSEUM",
          "NAME": "POPE JOHN PAUL II CULTURAL CENTER",
          "OBJECTID": 37,
          "WEBURL": "HTTP://WWW.JP2CC.ORG"
         },
         "type": "Feature"
        },
        {
         "geometry": {
          "coordinates": [
           -77.0228592459719,
           38.89285370583677
          ],
          "type": "Point"
         },
         "properties": {
          "ADDRESS": "700 PENNSYLVANIA AVENUE NW",
          "ADDRESS_ID": 293251,
          "ALTNAME": "NATIONAL ARCHIVES MUSEUM",
          "LEGALNAME": "PHILLIPS COLLECTION",
          "NAME": "NATIONAL ARCHIVES MUSEUM",
          "OBJECTID": 38,
          "WEBURL": "https://www.archives.gov/dc-metro/washington/"
         },
         "type": "Feature"
        },
        {
         "geometry": {
          "coordinates": [
           -77.04147388756545,
           38.892799844291474
          ],
          "type": "Point"
         },
         "properties": {
          "ADDRESS": "201 18TH STREET NW",
          "ADDRESS_ID": 294191,
          "ALTNAME": " ",
          "LEGALNAME": "Art Museum of the Americas",
          "NAME": "ART MUSEUM OF THE AMERICAS",
          "OBJECTID": 39,
          "WEBURL": "http://www.museum.oas.org/"
         },
         "type": "Feature"
        },
        {
         "geometry": {
          "coordinates": [
           -77.04730884101534,
           38.91222144699389
          ],
          "type": "Point"
         },
         "properties": {
          "ADDRESS": "9 HILLYER COURT NW",
          "ADDRESS_ID": 279975,
          "ALTNAME": "INTERNATIONAL ARTS & ARTISTS",
          "LEGALNAME": "THE INTERNATIONAL SPY MUSEUM",
          "NAME": "INTERNATIONAL ARTS & ARTISTS",
          "OBJECTID": 40,
          "WEBURL": "WWW.ARTSANDARTISTS.ORG"
         },
         "type": "Feature"
        },
        {
         "geometry": {
          "coordinates": [
           -77.00819124512859,
           38.8981463599396
          ],
          "type": "Point"
         },
         "properties": {
          "ADDRESS": "2 MASSACHUSETTS AVENUE NE",
          "ADDRESS_ID": 293217,
          "ALTNAME": "NATIONAL POSTAL MUSEUM",
          "LEGALNAME": "BEAD SOCIETY OF GREATER WASHINGTON",
          "NAME": "NATIONAL POSTAL MUSEUM",
          "OBJECTID": 41,
          "WEBURL": "HTTP://POSTALMUSEUM.SI.EDU"
         },
         "type": "Feature"
        },
        {
         "geometry": {
          "coordinates": [
           -77.03550660261739,
           38.93243814726252
          ],
          "type": "Point"
         },
         "properties": {
          "ADDRESS": "1519 MONROE STREET NW",
          "ADDRESS_ID": 234557,
          "ALTNAME": " ",
          "LEGALNAME": "AMERICAN UNIVERSITY MUSEUM",
          "NAME": "POWHATAN MUSEUM",
          "OBJECTID": 42,
          "WEBURL": "http://www.powhatanmuseum.com/"
         },
         "type": "Feature"
        },
        {
         "geometry": {
          "coordinates": [
           -77.00375845550963,
           38.89219466787653
          ],
          "type": "Point"
         },
         "properties": {
          "ADDRESS": "144 CONSTITUTION AVENUE NE",
          "ADDRESS_ID": 286201,
          "ALTNAME": " ",
          "LEGALNAME": "AMERICAN MUSEUM OF PEACE INC",
          "NAME": "SEWALL-BELMONT HOUSE AND MUSEUM",
          "OBJECTID": 43,
          "WEBURL": "HTTP://WWW.SEWALLBELMONT.ORG"
         },
         "type": "Feature"
        },
        {
         "geometry": {
          "coordinates": [
           -76.9944246526475,
           38.891834530779185
          ],
          "type": "Point"
         },
         "properties": {
          "ADDRESS": "802 MASSACHUSETTS AVENUE NE",
          "ADDRESS_ID": 79669,
          "ALTNAME": " ",
          "LEGALNAME": "GREENPEACE FUND",
          "NAME": "SHOOK MUSEUM FOUNDATION",
          "OBJECTID": 44,
          "WEBURL": "SHOOKMUSEUM.ORG"
         },
         "type": "Feature"
        },
        {
         "geometry": {
          "coordinates": [
           -77.02591603234607,
           38.89121850995097
          ],
          "type": "Point"
         },
         "properties": {
          "ADDRESS": "1400 CONSTITUTION AVENUE NW",
          "ADDRESS_ID": 310702,
          "ALTNAME": "SMITHSONIAN INSTITUTION, NATIONAL MUSEUM OF NATURAL HISTORY",
          "LEGALNAME": "B'NAI B'RITH KLUTZNICK MUSEUM",
          "NAME": "SMITHSONIAN INSTITUTION, NATIONAL MUSEUM OF NATURAL HISTORY",
          "OBJECTID": 45,
          "WEBURL": "http://www.mnh.si.edu/"
         },
         "type": "Feature"
        },
        {
         "geometry": {
          "coordinates": [
           -77.0196991986925,
           38.922360224748935
          ],
          "type": "Point"
         },
         "properties": {
          "ADDRESS": "500 HOWARD PLACE NW",
          "ADDRESS_ID": 243398,
          "ALTNAME": " ",
          "LEGALNAME": "COLLECTONS STRIES AMRCN MSLIMS",
          "NAME": "HOWARD UNIVERSITY MUSEUM",
          "OBJECTID": 46,
          "WEBURL": "http://www.coas.howard.edu/msrc/museum.html"
         },
         "type": "Feature"
        },
        {
         "geometry": {
          "coordinates": [
           -77.02295571583119,
           38.89815890118559
          ],
          "type": "Point"
         },
         "properties": {
          "ADDRESS": "8TH STREET NW AND  F ST NW",
          "ADDRESS_ID": 294248,
          "ALTNAME": "NATIONAL PORTRAIT GALLERY",
          "LEGALNAME": "BOHEMIA ARTS",
          "NAME": "NATIONAL PORTRAIT GALLERY",
          "OBJECTID": 47,
          "WEBURL": "HTTP://WWW.NPG.SI.EDU"
         },
         "type": "Feature"
        },
        {
         "geometry": {
          "coordinates": [
           -77.03271597832732,
           38.89119983415094
          ],
          "type": "Point"
         },
         "properties": {
          "ADDRESS": "14TH STREET NW AND CONSTITUTION AVENUE NW",
          "ADDRESS_ID": 903110,
          "ALTNAME": "NATIONAL MUSEUM OF AFRICAN AMERICAN HISTORY AND CULTURE",
          "LEGALNAME": "AMERICANS FOR BATTLEFIELD PRESERVATION",
          "NAME": "NATIONAL MUSEUM OF AFRICAN AMERICAN HISTORY AND CULTURE",
          "OBJECTID": 48,
          "WEBURL": "HTTP://WWW.NMAAHC.SI.EDU/"
         },
         "type": "Feature"
        },
        {
         "geometry": {
          "coordinates": [
           -77.01672595283219,
           38.88826561652
          ],
          "type": "Point"
         },
         "properties": {
          "ADDRESS": "4TH STREET SW AND INDEPENDENCE AVENUE SW",
          "ADDRESS_ID": 294429,
          "ALTNAME": " ",
          "LEGALNAME": "BLAIR HOUSE RESTORATION FUND",
          "NAME": "NATIONAL MUSEUM OF AMERICAN INDIAN",
          "OBJECTID": 49,
          "WEBURL": "WWW.NMAI.SI.EDU"
         },
         "type": "Feature"
        },
        {
         "geometry": {
          "coordinates": [
           -77.01979999825605,
           38.888161175521944
          ],
          "type": "Point"
         },
         "properties": {
          "ADDRESS": "6TH STREET SW AND INDEPENDENCE AVENUE SW",
          "ADDRESS_ID": 301565,
          "ALTNAME": "NATIONAL AIR AND SPACE MUSEUM",
          "LEGALNAME": "BETHUNE MEMORIAL MUSEUM",
          "NAME": "NATIONAL AIR AND SPACE MUSEUM",
          "OBJECTID": 50,
          "WEBURL": "HTTP://WWW.NASM.SI.EDU/"
         },
         "type": "Feature"
        },
        {
         "geometry": {
          "coordinates": [
           -77.02294902891254,
           38.88843565656003
          ],
          "type": "Point"
         },
         "properties": {
          "ADDRESS": "7THB STREET AND INDEPENDENCE AVENUE SW",
          "ADDRESS_ID": 294428,
          "ALTNAME": "HIRSHHORN MUSEUM AND SCULPTURE GARDEN",
          "LEGALNAME": "D.C. OFFICE OF PUBLIC RECORDS AND ARCHIVES",
          "NAME": "HIRSHHORN MUSEUM AND SCULPTURE GARDEN",
          "OBJECTID": 51,
          "WEBURL": "HTTP://HIRSHHORN.SI.EDU/"
         },
         "type": "Feature"
        },
        {
         "geometry": {
          "coordinates": [
           -77.03005156534492,
           38.89123181993075
          ],
          "type": "Point"
         },
         "properties": {
          "ADDRESS": "MADISON DRIVE NW AND 12TH STREET NW",
          "ADDRESS_ID": 293200,
          "ALTNAME": "SMITHSONIAN INSTITUTION, NATIONAL MUSEUM OF AMERICAN HISTORY",
          "LEGALNAME": null,
          "NAME": "SMITHSONIAN INSTITUTION, NATIONAL MUSEUM OF AMERICAN HISTORY",
          "OBJECTID": 52,
          "WEBURL": "HTTP://AMERICANHISTORY.SI.EDU"
         },
         "type": "Feature"
        },
        {
         "geometry": {
          "coordinates": [
           -77.01668919569053,
           38.89125721273486
          ],
          "type": "Point"
         },
         "properties": {
          "ADDRESS": "4TH STREET NW AND MADISON DRIVE NW",
          "ADDRESS_ID": 293209,
          "ALTNAME": null,
          "LEGALNAME": null,
          "NAME": "NATIONAL GALLERY OF ART - EAST BUILDING",
          "OBJECTID": 53,
          "WEBURL": "http://www.nga.gov/content/ngaweb/visit/maps-and-information/east-building.html"
         },
         "type": "Feature"
        },
        {
         "geometry": {
          "coordinates": [
           -77.01989150273015,
           38.891313914429645
          ],
          "type": "Point"
         },
         "properties": {
          "ADDRESS": "4TH STREET NW AND MADISON DRIVE NW",
          "ADDRESS_ID": 293249,
          "ALTNAME": null,
          "LEGALNAME": null,
          "NAME": "NATIONAL GALLERY OF ART - WEST BUILDING",
          "OBJECTID": 54,
          "WEBURL": "http://www.nga.gov/content/ngaweb/visit/maps-and-information/west-building.html"
         },
         "type": "Feature"
        },
        {
         "geometry": {
          "coordinates": [
           -77.02597189316775,
           38.88879577572046
          ],
          "type": "Point"
         },
         "properties": {
          "ADDRESS": "1000 JEFFERSON DRIVE SW",
          "ADDRESS_ID": 293187,
          "ALTNAME": null,
          "LEGALNAME": null,
          "NAME": "SMITHSONIAN INSTITUTION - CASTLE",
          "OBJECTID": 55,
          "WEBURL": "http://www.si.edu/Museums/smithsonian-institution-building"
         },
         "type": "Feature"
        },
        {
         "geometry": {
          "coordinates": [
           -77.02645343758842,
           38.88796502751886
          ],
          "type": "Point"
         },
         "properties": {
          "ADDRESS": "1050 INDEPENDENCE AVENUE SW",
          "ADDRESS_ID": 293191,
          "ALTNAME": null,
          "LEGALNAME": "ARTHUR M. SACKLER GALLERY",
          "NAME": "SACKLER GALLERY",
          "OBJECTID": 56,
          "WEBURL": "http://www.asia.si.edu/"
         },
         "type": "Feature"
        },
        {
         "geometry": {
          "coordinates": [
           -77.02736845485786,
           38.8882746680144
          ],
          "type": "Point"
         },
         "properties": {
          "ADDRESS": "JEFFERSON DRIVE SW AND 12TH STREET SW",
          "ADDRESS_ID": 294417,
          "ALTNAME": null,
          "LEGALNAME": "FREER GALLERY OF ART",
          "NAME": "FREER GALLERY",
          "OBJECTID": 57,
          "WEBURL": "http://www.asia.si.edu/"
         },
         "type": "Feature"
        }
       ],
       "type": "FeatureCollection"
      },
      "text/plain": [
       "<IPython.display.GeoJSON object>"
      ]
     },
     "metadata": {
      "application/geo+json": {
       "expanded": false,
       "root": "root"
      }
     },
     "output_type": "display_data"
    }
   ],
   "source": [
    "g"
   ]
  },
  {
   "cell_type": "code",
   "execution_count": 10,
   "metadata": {},
   "outputs": [
    {
     "data": {
      "text/html": [
       "<div>\n",
       "<style scoped>\n",
       "    .dataframe tbody tr th:only-of-type {\n",
       "        vertical-align: middle;\n",
       "    }\n",
       "\n",
       "    .dataframe tbody tr th {\n",
       "        vertical-align: top;\n",
       "    }\n",
       "\n",
       "    .dataframe thead th {\n",
       "        text-align: right;\n",
       "    }\n",
       "</style>\n",
       "<table border=\"1\" class=\"dataframe\">\n",
       "  <thead>\n",
       "    <tr style=\"text-align: right;\">\n",
       "      <th></th>\n",
       "      <th>type</th>\n",
       "      <th>features</th>\n",
       "    </tr>\n",
       "  </thead>\n",
       "  <tbody>\n",
       "    <tr>\n",
       "      <th>0</th>\n",
       "      <td>FeatureCollection</td>\n",
       "      <td>{'type': 'Feature', 'properties': {'OBJECTID':...</td>\n",
       "    </tr>\n",
       "    <tr>\n",
       "      <th>1</th>\n",
       "      <td>FeatureCollection</td>\n",
       "      <td>{'type': 'Feature', 'properties': {'OBJECTID':...</td>\n",
       "    </tr>\n",
       "    <tr>\n",
       "      <th>2</th>\n",
       "      <td>FeatureCollection</td>\n",
       "      <td>{'type': 'Feature', 'properties': {'OBJECTID':...</td>\n",
       "    </tr>\n",
       "    <tr>\n",
       "      <th>3</th>\n",
       "      <td>FeatureCollection</td>\n",
       "      <td>{'type': 'Feature', 'properties': {'OBJECTID':...</td>\n",
       "    </tr>\n",
       "    <tr>\n",
       "      <th>4</th>\n",
       "      <td>FeatureCollection</td>\n",
       "      <td>{'type': 'Feature', 'properties': {'OBJECTID':...</td>\n",
       "    </tr>\n",
       "    <tr>\n",
       "      <th>5</th>\n",
       "      <td>FeatureCollection</td>\n",
       "      <td>{'type': 'Feature', 'properties': {'OBJECTID':...</td>\n",
       "    </tr>\n",
       "    <tr>\n",
       "      <th>6</th>\n",
       "      <td>FeatureCollection</td>\n",
       "      <td>{'type': 'Feature', 'properties': {'OBJECTID':...</td>\n",
       "    </tr>\n",
       "    <tr>\n",
       "      <th>7</th>\n",
       "      <td>FeatureCollection</td>\n",
       "      <td>{'type': 'Feature', 'properties': {'OBJECTID':...</td>\n",
       "    </tr>\n",
       "    <tr>\n",
       "      <th>8</th>\n",
       "      <td>FeatureCollection</td>\n",
       "      <td>{'type': 'Feature', 'properties': {'OBJECTID':...</td>\n",
       "    </tr>\n",
       "    <tr>\n",
       "      <th>9</th>\n",
       "      <td>FeatureCollection</td>\n",
       "      <td>{'type': 'Feature', 'properties': {'OBJECTID':...</td>\n",
       "    </tr>\n",
       "    <tr>\n",
       "      <th>10</th>\n",
       "      <td>FeatureCollection</td>\n",
       "      <td>{'type': 'Feature', 'properties': {'OBJECTID':...</td>\n",
       "    </tr>\n",
       "    <tr>\n",
       "      <th>11</th>\n",
       "      <td>FeatureCollection</td>\n",
       "      <td>{'type': 'Feature', 'properties': {'OBJECTID':...</td>\n",
       "    </tr>\n",
       "    <tr>\n",
       "      <th>12</th>\n",
       "      <td>FeatureCollection</td>\n",
       "      <td>{'type': 'Feature', 'properties': {'OBJECTID':...</td>\n",
       "    </tr>\n",
       "    <tr>\n",
       "      <th>13</th>\n",
       "      <td>FeatureCollection</td>\n",
       "      <td>{'type': 'Feature', 'properties': {'OBJECTID':...</td>\n",
       "    </tr>\n",
       "    <tr>\n",
       "      <th>14</th>\n",
       "      <td>FeatureCollection</td>\n",
       "      <td>{'type': 'Feature', 'properties': {'OBJECTID':...</td>\n",
       "    </tr>\n",
       "    <tr>\n",
       "      <th>15</th>\n",
       "      <td>FeatureCollection</td>\n",
       "      <td>{'type': 'Feature', 'properties': {'OBJECTID':...</td>\n",
       "    </tr>\n",
       "    <tr>\n",
       "      <th>16</th>\n",
       "      <td>FeatureCollection</td>\n",
       "      <td>{'type': 'Feature', 'properties': {'OBJECTID':...</td>\n",
       "    </tr>\n",
       "    <tr>\n",
       "      <th>17</th>\n",
       "      <td>FeatureCollection</td>\n",
       "      <td>{'type': 'Feature', 'properties': {'OBJECTID':...</td>\n",
       "    </tr>\n",
       "    <tr>\n",
       "      <th>18</th>\n",
       "      <td>FeatureCollection</td>\n",
       "      <td>{'type': 'Feature', 'properties': {'OBJECTID':...</td>\n",
       "    </tr>\n",
       "    <tr>\n",
       "      <th>19</th>\n",
       "      <td>FeatureCollection</td>\n",
       "      <td>{'type': 'Feature', 'properties': {'OBJECTID':...</td>\n",
       "    </tr>\n",
       "    <tr>\n",
       "      <th>20</th>\n",
       "      <td>FeatureCollection</td>\n",
       "      <td>{'type': 'Feature', 'properties': {'OBJECTID':...</td>\n",
       "    </tr>\n",
       "    <tr>\n",
       "      <th>21</th>\n",
       "      <td>FeatureCollection</td>\n",
       "      <td>{'type': 'Feature', 'properties': {'OBJECTID':...</td>\n",
       "    </tr>\n",
       "    <tr>\n",
       "      <th>22</th>\n",
       "      <td>FeatureCollection</td>\n",
       "      <td>{'type': 'Feature', 'properties': {'OBJECTID':...</td>\n",
       "    </tr>\n",
       "    <tr>\n",
       "      <th>23</th>\n",
       "      <td>FeatureCollection</td>\n",
       "      <td>{'type': 'Feature', 'properties': {'OBJECTID':...</td>\n",
       "    </tr>\n",
       "    <tr>\n",
       "      <th>24</th>\n",
       "      <td>FeatureCollection</td>\n",
       "      <td>{'type': 'Feature', 'properties': {'OBJECTID':...</td>\n",
       "    </tr>\n",
       "    <tr>\n",
       "      <th>25</th>\n",
       "      <td>FeatureCollection</td>\n",
       "      <td>{'type': 'Feature', 'properties': {'OBJECTID':...</td>\n",
       "    </tr>\n",
       "    <tr>\n",
       "      <th>26</th>\n",
       "      <td>FeatureCollection</td>\n",
       "      <td>{'type': 'Feature', 'properties': {'OBJECTID':...</td>\n",
       "    </tr>\n",
       "    <tr>\n",
       "      <th>27</th>\n",
       "      <td>FeatureCollection</td>\n",
       "      <td>{'type': 'Feature', 'properties': {'OBJECTID':...</td>\n",
       "    </tr>\n",
       "    <tr>\n",
       "      <th>28</th>\n",
       "      <td>FeatureCollection</td>\n",
       "      <td>{'type': 'Feature', 'properties': {'OBJECTID':...</td>\n",
       "    </tr>\n",
       "    <tr>\n",
       "      <th>29</th>\n",
       "      <td>FeatureCollection</td>\n",
       "      <td>{'type': 'Feature', 'properties': {'OBJECTID':...</td>\n",
       "    </tr>\n",
       "    <tr>\n",
       "      <th>30</th>\n",
       "      <td>FeatureCollection</td>\n",
       "      <td>{'type': 'Feature', 'properties': {'OBJECTID':...</td>\n",
       "    </tr>\n",
       "    <tr>\n",
       "      <th>31</th>\n",
       "      <td>FeatureCollection</td>\n",
       "      <td>{'type': 'Feature', 'properties': {'OBJECTID':...</td>\n",
       "    </tr>\n",
       "    <tr>\n",
       "      <th>32</th>\n",
       "      <td>FeatureCollection</td>\n",
       "      <td>{'type': 'Feature', 'properties': {'OBJECTID':...</td>\n",
       "    </tr>\n",
       "    <tr>\n",
       "      <th>33</th>\n",
       "      <td>FeatureCollection</td>\n",
       "      <td>{'type': 'Feature', 'properties': {'OBJECTID':...</td>\n",
       "    </tr>\n",
       "    <tr>\n",
       "      <th>34</th>\n",
       "      <td>FeatureCollection</td>\n",
       "      <td>{'type': 'Feature', 'properties': {'OBJECTID':...</td>\n",
       "    </tr>\n",
       "    <tr>\n",
       "      <th>35</th>\n",
       "      <td>FeatureCollection</td>\n",
       "      <td>{'type': 'Feature', 'properties': {'OBJECTID':...</td>\n",
       "    </tr>\n",
       "    <tr>\n",
       "      <th>36</th>\n",
       "      <td>FeatureCollection</td>\n",
       "      <td>{'type': 'Feature', 'properties': {'OBJECTID':...</td>\n",
       "    </tr>\n",
       "    <tr>\n",
       "      <th>37</th>\n",
       "      <td>FeatureCollection</td>\n",
       "      <td>{'type': 'Feature', 'properties': {'OBJECTID':...</td>\n",
       "    </tr>\n",
       "    <tr>\n",
       "      <th>38</th>\n",
       "      <td>FeatureCollection</td>\n",
       "      <td>{'type': 'Feature', 'properties': {'OBJECTID':...</td>\n",
       "    </tr>\n",
       "    <tr>\n",
       "      <th>39</th>\n",
       "      <td>FeatureCollection</td>\n",
       "      <td>{'type': 'Feature', 'properties': {'OBJECTID':...</td>\n",
       "    </tr>\n",
       "    <tr>\n",
       "      <th>40</th>\n",
       "      <td>FeatureCollection</td>\n",
       "      <td>{'type': 'Feature', 'properties': {'OBJECTID':...</td>\n",
       "    </tr>\n",
       "    <tr>\n",
       "      <th>41</th>\n",
       "      <td>FeatureCollection</td>\n",
       "      <td>{'type': 'Feature', 'properties': {'OBJECTID':...</td>\n",
       "    </tr>\n",
       "    <tr>\n",
       "      <th>42</th>\n",
       "      <td>FeatureCollection</td>\n",
       "      <td>{'type': 'Feature', 'properties': {'OBJECTID':...</td>\n",
       "    </tr>\n",
       "    <tr>\n",
       "      <th>43</th>\n",
       "      <td>FeatureCollection</td>\n",
       "      <td>{'type': 'Feature', 'properties': {'OBJECTID':...</td>\n",
       "    </tr>\n",
       "    <tr>\n",
       "      <th>44</th>\n",
       "      <td>FeatureCollection</td>\n",
       "      <td>{'type': 'Feature', 'properties': {'OBJECTID':...</td>\n",
       "    </tr>\n",
       "    <tr>\n",
       "      <th>45</th>\n",
       "      <td>FeatureCollection</td>\n",
       "      <td>{'type': 'Feature', 'properties': {'OBJECTID':...</td>\n",
       "    </tr>\n",
       "    <tr>\n",
       "      <th>46</th>\n",
       "      <td>FeatureCollection</td>\n",
       "      <td>{'type': 'Feature', 'properties': {'OBJECTID':...</td>\n",
       "    </tr>\n",
       "    <tr>\n",
       "      <th>47</th>\n",
       "      <td>FeatureCollection</td>\n",
       "      <td>{'type': 'Feature', 'properties': {'OBJECTID':...</td>\n",
       "    </tr>\n",
       "    <tr>\n",
       "      <th>48</th>\n",
       "      <td>FeatureCollection</td>\n",
       "      <td>{'type': 'Feature', 'properties': {'OBJECTID':...</td>\n",
       "    </tr>\n",
       "    <tr>\n",
       "      <th>49</th>\n",
       "      <td>FeatureCollection</td>\n",
       "      <td>{'type': 'Feature', 'properties': {'OBJECTID':...</td>\n",
       "    </tr>\n",
       "    <tr>\n",
       "      <th>50</th>\n",
       "      <td>FeatureCollection</td>\n",
       "      <td>{'type': 'Feature', 'properties': {'OBJECTID':...</td>\n",
       "    </tr>\n",
       "    <tr>\n",
       "      <th>51</th>\n",
       "      <td>FeatureCollection</td>\n",
       "      <td>{'type': 'Feature', 'properties': {'OBJECTID':...</td>\n",
       "    </tr>\n",
       "    <tr>\n",
       "      <th>52</th>\n",
       "      <td>FeatureCollection</td>\n",
       "      <td>{'type': 'Feature', 'properties': {'OBJECTID':...</td>\n",
       "    </tr>\n",
       "    <tr>\n",
       "      <th>53</th>\n",
       "      <td>FeatureCollection</td>\n",
       "      <td>{'type': 'Feature', 'properties': {'OBJECTID':...</td>\n",
       "    </tr>\n",
       "    <tr>\n",
       "      <th>54</th>\n",
       "      <td>FeatureCollection</td>\n",
       "      <td>{'type': 'Feature', 'properties': {'OBJECTID':...</td>\n",
       "    </tr>\n",
       "    <tr>\n",
       "      <th>55</th>\n",
       "      <td>FeatureCollection</td>\n",
       "      <td>{'type': 'Feature', 'properties': {'OBJECTID':...</td>\n",
       "    </tr>\n",
       "    <tr>\n",
       "      <th>56</th>\n",
       "      <td>FeatureCollection</td>\n",
       "      <td>{'type': 'Feature', 'properties': {'OBJECTID':...</td>\n",
       "    </tr>\n",
       "  </tbody>\n",
       "</table>\n",
       "</div>"
      ],
      "text/plain": [
       "                 type                                           features\n",
       "0   FeatureCollection  {'type': 'Feature', 'properties': {'OBJECTID':...\n",
       "1   FeatureCollection  {'type': 'Feature', 'properties': {'OBJECTID':...\n",
       "2   FeatureCollection  {'type': 'Feature', 'properties': {'OBJECTID':...\n",
       "3   FeatureCollection  {'type': 'Feature', 'properties': {'OBJECTID':...\n",
       "4   FeatureCollection  {'type': 'Feature', 'properties': {'OBJECTID':...\n",
       "5   FeatureCollection  {'type': 'Feature', 'properties': {'OBJECTID':...\n",
       "6   FeatureCollection  {'type': 'Feature', 'properties': {'OBJECTID':...\n",
       "7   FeatureCollection  {'type': 'Feature', 'properties': {'OBJECTID':...\n",
       "8   FeatureCollection  {'type': 'Feature', 'properties': {'OBJECTID':...\n",
       "9   FeatureCollection  {'type': 'Feature', 'properties': {'OBJECTID':...\n",
       "10  FeatureCollection  {'type': 'Feature', 'properties': {'OBJECTID':...\n",
       "11  FeatureCollection  {'type': 'Feature', 'properties': {'OBJECTID':...\n",
       "12  FeatureCollection  {'type': 'Feature', 'properties': {'OBJECTID':...\n",
       "13  FeatureCollection  {'type': 'Feature', 'properties': {'OBJECTID':...\n",
       "14  FeatureCollection  {'type': 'Feature', 'properties': {'OBJECTID':...\n",
       "15  FeatureCollection  {'type': 'Feature', 'properties': {'OBJECTID':...\n",
       "16  FeatureCollection  {'type': 'Feature', 'properties': {'OBJECTID':...\n",
       "17  FeatureCollection  {'type': 'Feature', 'properties': {'OBJECTID':...\n",
       "18  FeatureCollection  {'type': 'Feature', 'properties': {'OBJECTID':...\n",
       "19  FeatureCollection  {'type': 'Feature', 'properties': {'OBJECTID':...\n",
       "20  FeatureCollection  {'type': 'Feature', 'properties': {'OBJECTID':...\n",
       "21  FeatureCollection  {'type': 'Feature', 'properties': {'OBJECTID':...\n",
       "22  FeatureCollection  {'type': 'Feature', 'properties': {'OBJECTID':...\n",
       "23  FeatureCollection  {'type': 'Feature', 'properties': {'OBJECTID':...\n",
       "24  FeatureCollection  {'type': 'Feature', 'properties': {'OBJECTID':...\n",
       "25  FeatureCollection  {'type': 'Feature', 'properties': {'OBJECTID':...\n",
       "26  FeatureCollection  {'type': 'Feature', 'properties': {'OBJECTID':...\n",
       "27  FeatureCollection  {'type': 'Feature', 'properties': {'OBJECTID':...\n",
       "28  FeatureCollection  {'type': 'Feature', 'properties': {'OBJECTID':...\n",
       "29  FeatureCollection  {'type': 'Feature', 'properties': {'OBJECTID':...\n",
       "30  FeatureCollection  {'type': 'Feature', 'properties': {'OBJECTID':...\n",
       "31  FeatureCollection  {'type': 'Feature', 'properties': {'OBJECTID':...\n",
       "32  FeatureCollection  {'type': 'Feature', 'properties': {'OBJECTID':...\n",
       "33  FeatureCollection  {'type': 'Feature', 'properties': {'OBJECTID':...\n",
       "34  FeatureCollection  {'type': 'Feature', 'properties': {'OBJECTID':...\n",
       "35  FeatureCollection  {'type': 'Feature', 'properties': {'OBJECTID':...\n",
       "36  FeatureCollection  {'type': 'Feature', 'properties': {'OBJECTID':...\n",
       "37  FeatureCollection  {'type': 'Feature', 'properties': {'OBJECTID':...\n",
       "38  FeatureCollection  {'type': 'Feature', 'properties': {'OBJECTID':...\n",
       "39  FeatureCollection  {'type': 'Feature', 'properties': {'OBJECTID':...\n",
       "40  FeatureCollection  {'type': 'Feature', 'properties': {'OBJECTID':...\n",
       "41  FeatureCollection  {'type': 'Feature', 'properties': {'OBJECTID':...\n",
       "42  FeatureCollection  {'type': 'Feature', 'properties': {'OBJECTID':...\n",
       "43  FeatureCollection  {'type': 'Feature', 'properties': {'OBJECTID':...\n",
       "44  FeatureCollection  {'type': 'Feature', 'properties': {'OBJECTID':...\n",
       "45  FeatureCollection  {'type': 'Feature', 'properties': {'OBJECTID':...\n",
       "46  FeatureCollection  {'type': 'Feature', 'properties': {'OBJECTID':...\n",
       "47  FeatureCollection  {'type': 'Feature', 'properties': {'OBJECTID':...\n",
       "48  FeatureCollection  {'type': 'Feature', 'properties': {'OBJECTID':...\n",
       "49  FeatureCollection  {'type': 'Feature', 'properties': {'OBJECTID':...\n",
       "50  FeatureCollection  {'type': 'Feature', 'properties': {'OBJECTID':...\n",
       "51  FeatureCollection  {'type': 'Feature', 'properties': {'OBJECTID':...\n",
       "52  FeatureCollection  {'type': 'Feature', 'properties': {'OBJECTID':...\n",
       "53  FeatureCollection  {'type': 'Feature', 'properties': {'OBJECTID':...\n",
       "54  FeatureCollection  {'type': 'Feature', 'properties': {'OBJECTID':...\n",
       "55  FeatureCollection  {'type': 'Feature', 'properties': {'OBJECTID':...\n",
       "56  FeatureCollection  {'type': 'Feature', 'properties': {'OBJECTID':..."
      ]
     },
     "execution_count": 10,
     "metadata": {},
     "output_type": "execute_result"
    }
   ],
   "source": [
    "df"
   ]
  },
  {
   "cell_type": "code",
   "execution_count": null,
   "metadata": {},
   "outputs": [],
   "source": []
  }
 ],
 "metadata": {
  "kernelspec": {
   "display_name": "Python 3",
   "language": "python",
   "name": "python3"
  },
  "language_info": {
   "codemirror_mode": {
    "name": "ipython",
    "version": 3
   },
   "file_extension": ".py",
   "mimetype": "text/x-python",
   "name": "python",
   "nbconvert_exporter": "python",
   "pygments_lexer": "ipython3",
   "version": "3.7.3"
  }
 },
 "nbformat": 4,
 "nbformat_minor": 2
}
