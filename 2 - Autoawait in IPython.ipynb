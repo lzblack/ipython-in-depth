{
 "cells": [
  {
   "cell_type": "markdown",
   "metadata": {},
   "source": [
    "# Async and Await Primer"
   ]
  },
  {
   "cell_type": "markdown",
   "metadata": {},
   "source": [
    "A quick primer on `async`/`await`. Async and await are relatively new features in Python which allow **concurent** programming. They won't make your code magically faster, but may make your code easier to read, maintain and reason about. \n",
    "You will likely hear the terms event-loop, coroutines and many other ones, they will make sens in time. \n",
    "\n",
    "The key thing to remember is that \n",
    " - async-functions can call both sync and async functions.\n",
    " - sync functions can only call sync. \n",
    " - You _must_ always `await <async functions>`\n"
   ]
  },
  {
   "cell_type": "markdown",
   "metadata": {},
   "source": [
    "## Event loop\n",
    "\n",
    "It's like the \"One ring\", there shoudl be only one. IPython (and Jupyter) usually already run one.\n",
    "\n",
    "### Bad news\n",
    "If you need to run any code that need to create and manage an event-loop, consult the docs. \n",
    "Typically you can't run a tornado app inside jupyter.\n",
    "\n",
    "### Good news\n",
    "\n",
    "If you don't know/don't care, all is already setup for you. \n",
    "\n"
   ]
  },
  {
   "cell_type": "markdown",
   "metadata": {},
   "source": [
    "## Example\n",
    "\n",
    "Let's deactivate enventloop integration and try what is (usually invalid Python)"
   ]
  },
  {
   "cell_type": "code",
   "execution_count": 1,
   "metadata": {},
   "outputs": [],
   "source": [
    "%autoawait False"
   ]
  },
  {
   "cell_type": "code",
   "execution_count": 2,
   "metadata": {},
   "outputs": [],
   "source": [
    "from asyncio import sleep"
   ]
  },
  {
   "cell_type": "code",
   "execution_count": 3,
   "metadata": {},
   "outputs": [
    {
     "name": "stdout",
     "output_type": "stream",
     "text": [
      "before sleep\n",
      "after sleep\n"
     ]
    },
    {
     "name": "stderr",
     "output_type": "stream",
     "text": [
      "C:\\ProgramData\\Anaconda3\\lib\\site-packages\\ipykernel_launcher.py:3: RuntimeWarning: coroutine 'sleep' was never awaited\n",
      "  This is separate from the ipykernel package so we can avoid doing imports until\n",
      "RuntimeWarning: Enable tracemalloc to get the object allocation traceback\n"
     ]
    }
   ],
   "source": [
    "# does not sleep, need to be awaited\n",
    "print('before sleep')\n",
    "sleep(5)\n",
    "print('after sleep')"
   ]
  },
  {
   "cell_type": "code",
   "execution_count": 4,
   "metadata": {},
   "outputs": [
    {
     "ename": "SyntaxError",
     "evalue": "'await' outside function (<ipython-input-4-920ac5bc3075>, line 1)",
     "output_type": "error",
     "traceback": [
      "\u001b[1;36m  File \u001b[1;32m\"<ipython-input-4-920ac5bc3075>\"\u001b[1;36m, line \u001b[1;32m1\u001b[0m\n\u001b[1;33m    await sleep(5)\u001b[0m\n\u001b[1;37m                  ^\u001b[0m\n\u001b[1;31mSyntaxError\u001b[0m\u001b[1;31m:\u001b[0m 'await' outside function\n"
     ]
    }
   ],
   "source": [
    "await sleep(5)"
   ]
  },
  {
   "cell_type": "code",
   "execution_count": 5,
   "metadata": {},
   "outputs": [
    {
     "ename": "SyntaxError",
     "evalue": "'await' outside async function (<ipython-input-5-8c14fef35f4f>, line 2)",
     "output_type": "error",
     "traceback": [
      "\u001b[1;36m  File \u001b[1;32m\"<ipython-input-5-8c14fef35f4f>\"\u001b[1;36m, line \u001b[1;32m2\u001b[0m\n\u001b[1;33m    await sleep(5)\u001b[0m\n\u001b[1;37m    ^\u001b[0m\n\u001b[1;31mSyntaxError\u001b[0m\u001b[1;31m:\u001b[0m 'await' outside async function\n"
     ]
    }
   ],
   "source": [
    "def f():\n",
    "    await sleep(5)\n",
    "f()"
   ]
  },
  {
   "cell_type": "code",
   "execution_count": 6,
   "metadata": {},
   "outputs": [
    {
     "data": {
      "text/plain": [
       "<coroutine object f at 0x000001EDA0E37048>"
      ]
     },
     "execution_count": 6,
     "metadata": {},
     "output_type": "execute_result"
    }
   ],
   "source": [
    "async def f():\n",
    "    print('before...')\n",
    "    await sleep(5)\n",
    "    print('after')\n",
    "### does not call f\n",
    "f()"
   ]
  },
  {
   "cell_type": "code",
   "execution_count": 7,
   "metadata": {},
   "outputs": [
    {
     "ename": "SyntaxError",
     "evalue": "'await' outside function (<ipython-input-7-9fe41d264da1>, line 1)",
     "output_type": "error",
     "traceback": [
      "\u001b[1;36m  File \u001b[1;32m\"<ipython-input-7-9fe41d264da1>\"\u001b[1;36m, line \u001b[1;32m1\u001b[0m\n\u001b[1;33m    await f()\u001b[0m\n\u001b[1;37m             ^\u001b[0m\n\u001b[1;31mSyntaxError\u001b[0m\u001b[1;31m:\u001b[0m 'await' outside function\n"
     ]
    }
   ],
   "source": [
    "await f()"
   ]
  },
  {
   "cell_type": "markdown",
   "metadata": {},
   "source": [
    "... back to step beginning. "
   ]
  },
  {
   "cell_type": "markdown",
   "metadata": {},
   "source": [
    "## Autoawait"
   ]
  },
  {
   "cell_type": "markdown",
   "metadata": {},
   "source": [
    "Autoawait will _attempt_ to detect async code and run it for you. There are of course limitations (bug report welcome)"
   ]
  },
  {
   "cell_type": "code",
   "execution_count": 8,
   "metadata": {},
   "outputs": [],
   "source": [
    "%autoawait True"
   ]
  },
  {
   "cell_type": "markdown",
   "metadata": {},
   "source": [
    "You will note that any line that start with `%` is invalid Python and are IPython specific syntax. Those are call magics (line-magics with a single `%` sign, cell magics with a double `%%` sign)"
   ]
  },
  {
   "cell_type": "code",
   "execution_count": 9,
   "metadata": {},
   "outputs": [
    {
     "name": "stdout",
     "output_type": "stream",
     "text": [
      "before\n",
      "after\n"
     ]
    }
   ],
   "source": [
    "print('before')\n",
    "await sleep(5)\n",
    "print('after')"
   ]
  },
  {
   "cell_type": "markdown",
   "metadata": {},
   "source": [
    "Top level await is now valid syntax. "
   ]
  },
  {
   "cell_type": "code",
   "execution_count": 10,
   "metadata": {},
   "outputs": [],
   "source": [
    "tpl = 'https://anapioficeandfire.com/api/characters/{}'"
   ]
  },
  {
   "cell_type": "code",
   "execution_count": 11,
   "metadata": {},
   "outputs": [
    {
     "name": "stdout",
     "output_type": "stream",
     "text": [
      ".x.x.x.x.x.x.x.x.x.x.x.x.x.x.x.x.x.x.x.x.x.x.x.x.x.x.x.x.x.x.x.x.x.x.x.x.x.x.x.x.x.x.x.x.x.x.x.x.x['The Daughter of the Dusk']\n",
      "['Hodor']\n",
      "['Lamprey']\n",
      "['The Merling Queen']\n",
      "['Old Crackbones']\n",
      "['The Poetess']\n",
      "['Porridge']\n",
      "['Quickfinger']\n",
      "[\"the Sailor's Wife\"]\n",
      "['The Veiled Lady']\n",
      "['The waif']\n",
      "['Balon the Brave', 'Balon the Blessed', 'Balon the Twice Crowned', 'Balon the Widowmaker', 'The Kraken King']\n",
      "['']\n",
      "['']\n",
      "['The High Sparrow']\n",
      "['The Little Queen', 'The Little Rose', 'Maid Margaery']\n",
      "['']\n",
      "['']\n",
      "['']\n",
      "['']\n",
      "['']\n",
      "['']\n",
      "['']\n",
      "['']\n",
      "['']\n",
      "['']\n",
      "['The Lion of Lannister', 'The Old Lion', 'The Great Lion of the Rock']\n",
      "['']\n",
      "['']\n",
      "['']\n",
      "['']\n",
      "['']\n",
      "['Addam of Hull']\n",
      "['The Bastard of Cornfield']\n",
      "['']\n",
      "['Jinglebell']\n",
      "['Aegon Bloodborn']\n",
      "['Aegon the Conqueror', 'Aegon the Dragon', 'Aegon the Dragonlord']\n",
      "['Aegon the Elder', 'Aegon the Usurper']\n",
      "['Aegon the Younger', 'Aegon the Dragonbane', 'Aegon the Unlucky', 'The Broken King']\n",
      "['Aegon the Unworthy']\n",
      "['Young Griff']\n",
      "['']\n",
      "['']\n",
      "['']\n",
      "['Aegon the Unlikely', 'Aegon the Fortunate', 'The Prince Who Was An Eggg']\n",
      "['Bittersteel']\n",
      "['']\n",
      "['']\n",
      "Wall time: 9 s\n"
     ]
    }
   ],
   "source": [
    "%%time\n",
    "\n",
    "results = []\n",
    "for i in range(1,50):\n",
    "    import requests\n",
    "    print('.', end='')\n",
    "    r = requests.get(tpl.format(i)).json()['aliases']\n",
    "    print('x', end='')\n",
    "    results.append(r)\n",
    "    \n",
    "for r in results:\n",
    "    print(r)"
   ]
  },
  {
   "cell_type": "markdown",
   "metadata": {},
   "source": [
    "# Moving to asynchronous"
   ]
  },
  {
   "cell_type": "markdown",
   "metadata": {},
   "source": [
    "Nothing is perfect; if you get RuntimeErrors with asyncio, you may need to restart your kernel. More during my colleagues aiohttp tutorial this Afternoon"
   ]
  },
  {
   "cell_type": "code",
   "execution_count": 13,
   "metadata": {},
   "outputs": [],
   "source": [
    "import aiohttp"
   ]
  },
  {
   "cell_type": "code",
   "execution_count": 14,
   "metadata": {},
   "outputs": [
    {
     "name": "stdout",
     "output_type": "stream",
     "text": [
      "['Lord Snow', \"Ned Stark's Bastard\", 'The Snow of Winterfell', 'The Crow-Come-Over', \"The 998th Lord Commander of the Night's Watch\", 'The Bastard of Winterfell', 'The Black Bastard of the Wall', 'Lord Crow']\n"
     ]
    }
   ],
   "source": [
    "async with aiohttp.ClientSession() as session:\n",
    "    response = await session.get(tpl.format(583))\n",
    "    json = await response.json()\n",
    "    print(json['aliases'])"
   ]
  },
  {
   "cell_type": "code",
   "execution_count": 15,
   "metadata": {},
   "outputs": [],
   "source": [
    "async def get_char(i, session):\n",
    "        print('.', end='')\n",
    "        response = await session.get(tpl.format(i))\n",
    "        json = await response.json()\n",
    "        print('x', end='')\n",
    "        return json['aliases']"
   ]
  },
  {
   "cell_type": "code",
   "execution_count": 16,
   "metadata": {},
   "outputs": [
    {
     "name": "stdout",
     "output_type": "stream",
     "text": [
      ".x['Dany', 'Daenerys Stormborn', 'The Unburnt', 'Mother of Dragons', 'Mother', 'Mhysa', 'The Silver Queen', 'Silver Lady', 'Dragonmother', 'The Dragon Queen', \"The Mad King's daughter\"]\n"
     ]
    }
   ],
   "source": [
    "async with aiohttp.ClientSession() as s:\n",
    "    print(await get_char(1303, s))"
   ]
  },
  {
   "cell_type": "code",
   "execution_count": 17,
   "metadata": {},
   "outputs": [],
   "source": [
    "tasks = []"
   ]
  },
  {
   "cell_type": "code",
   "execution_count": 18,
   "metadata": {},
   "outputs": [
    {
     "name": "stdout",
     "output_type": "stream",
     "text": [
      ".................................................xxxxxxxxxxxxxxxxxxxxxxxxxxxxxxxxxxxxxxxxxxxxxxxxx['The Daughter of the Dusk']\n",
      "['Hodor']\n",
      "['Lamprey']\n",
      "['The Merling Queen']\n",
      "['Old Crackbones']\n",
      "['The Poetess']\n",
      "['Porridge']\n",
      "['Quickfinger']\n",
      "[\"the Sailor's Wife\"]\n",
      "['The Veiled Lady']\n",
      "['The waif']\n",
      "['Balon the Brave', 'Balon the Blessed', 'Balon the Twice Crowned', 'Balon the Widowmaker', 'The Kraken King']\n",
      "['']\n",
      "['']\n",
      "['The High Sparrow']\n",
      "['The Little Queen', 'The Little Rose', 'Maid Margaery']\n",
      "['']\n",
      "['']\n",
      "['']\n",
      "['']\n",
      "['']\n",
      "['']\n",
      "['']\n",
      "['']\n",
      "['']\n",
      "['']\n",
      "['The Lion of Lannister', 'The Old Lion', 'The Great Lion of the Rock']\n",
      "['']\n",
      "['']\n",
      "['']\n",
      "['']\n",
      "['']\n",
      "['Addam of Hull']\n",
      "['The Bastard of Cornfield']\n",
      "['']\n",
      "['Jinglebell']\n",
      "['Aegon Bloodborn']\n",
      "['Aegon the Conqueror', 'Aegon the Dragon', 'Aegon the Dragonlord']\n",
      "['Aegon the Elder', 'Aegon the Usurper']\n",
      "['Aegon the Younger', 'Aegon the Dragonbane', 'Aegon the Unlucky', 'The Broken King']\n",
      "['Aegon the Unworthy']\n",
      "['Young Griff']\n",
      "['']\n",
      "['']\n",
      "['']\n",
      "['Aegon the Unlikely', 'Aegon the Fortunate', 'The Prince Who Was An Eggg']\n",
      "['Bittersteel']\n",
      "['']\n",
      "['']\n"
     ]
    }
   ],
   "source": [
    "import asyncio\n",
    "async with aiohttp.ClientSession() as session:\n",
    "    # start \n",
    "    for i in range(1,50):\n",
    "        task = asyncio.ensure_future(get_char(i, session))\n",
    "        tasks.append(task)\n",
    "    results = await asyncio.gather(*tasks)\n",
    "    for r in results:\n",
    "        print(r)"
   ]
  },
  {
   "cell_type": "markdown",
   "metadata": {},
   "source": [
    "## Advance Autoawait usage, Exercise"
   ]
  },
  {
   "cell_type": "markdown",
   "metadata": {},
   "source": [
    "Find the documentation for autoawait, and try to make it work with another asynchronous library. For exampe try to ply with [`trio`](https://trio.readthedocs.io/en/latest/), using `trio.sleep`  and `trio.open_nursery` to get several concurent task running, pritning different message regularly and at random intervals. What happen if you use `time.sleep()` instead of `trio.sleep()` ? What hapen if you use `asyncio.sleep()` ?"
   ]
  },
  {
   "cell_type": "code",
   "execution_count": null,
   "metadata": {},
   "outputs": [],
   "source": [
    "import trio"
   ]
  },
  {
   "cell_type": "code",
   "execution_count": null,
   "metadata": {},
   "outputs": [],
   "source": [
    "async def every(n, message):\n",
    "    for i in range(30):\n",
    "        await trio.sleep(n)\n",
    "        print(message)"
   ]
  },
  {
   "cell_type": "code",
   "execution_count": null,
   "metadata": {},
   "outputs": [],
   "source": [
    "%autoawait trio"
   ]
  },
  {
   "cell_type": "code",
   "execution_count": null,
   "metadata": {},
   "outputs": [],
   "source": [
    "async with trio.open_nursery() as nursery:\n",
    "    nursery.start_soon(every, 1, 'Plic')\n",
    "    nursery.start_soon(every, 2, 'Ploc')\n",
    "    "
   ]
  },
  {
   "cell_type": "code",
   "execution_count": null,
   "metadata": {},
   "outputs": [],
   "source": []
  }
 ],
 "metadata": {
  "kernelspec": {
   "display_name": "Python 3",
   "language": "python",
   "name": "python3"
  },
  "language_info": {
   "codemirror_mode": {
    "name": "ipython",
    "version": 3
   },
   "file_extension": ".py",
   "mimetype": "text/x-python",
   "name": "python",
   "nbconvert_exporter": "python",
   "pygments_lexer": "ipython3",
   "version": "3.7.3"
  }
 },
 "nbformat": 4,
 "nbformat_minor": 2
}
